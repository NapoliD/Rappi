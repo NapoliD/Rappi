{
  "nbformat": 4,
  "nbformat_minor": 0,
  "metadata": {
    "colab": {
      "name": "Solucion_Rappi.ipynb",
      "provenance": [],
      "collapsed_sections": [],
      "authorship_tag": "ABX9TyPXGRHxdCyQ9KV0iV9L+jK5",
      "include_colab_link": true
    },
    "kernelspec": {
      "name": "python3",
      "display_name": "Python 3"
    }
  },
  "cells": [
    {
      "cell_type": "markdown",
      "metadata": {
        "id": "view-in-github",
        "colab_type": "text"
      },
      "source": [
        "<a href=\"https://colab.research.google.com/github/NapoliD/Rappi/blob/main/Solucion_Rappi.ipynb\" target=\"_parent\"><img src=\"https://colab.research.google.com/assets/colab-badge.svg\" alt=\"Open In Colab\"/></a>"
      ]
    },
    {
      "cell_type": "markdown",
      "metadata": {
        "id": "MvhyLLziUQmp"
      },
      "source": [
        "# INICIAMOS SESION EN EL REPOSITORIO"
      ]
    },
    {
      "cell_type": "code",
      "metadata": {
        "colab": {
          "base_uri": "https://localhost:8080/"
        },
        "id": "DK_QH39y7d-Y",
        "outputId": "633810f1-3804-4857-a33b-0be000833235"
      },
      "source": [
        "from google.colab import drive\n",
        "drive.mount('/content/drive/') "
      ],
      "execution_count": 387,
      "outputs": [
        {
          "output_type": "stream",
          "text": [
            "Drive already mounted at /content/drive/; to attempt to forcibly remount, call drive.mount(\"/content/drive/\", force_remount=True).\n"
          ],
          "name": "stdout"
        }
      ]
    },
    {
      "cell_type": "code",
      "metadata": {
        "id": "byZ3Rb0f7oTD"
      },
      "source": [
        "import os\n",
        "os.chdir('/content/drive/My Drive/Rappi')"
      ],
      "execution_count": 388,
      "outputs": []
    },
    {
      "cell_type": "markdown",
      "metadata": {
        "id": "I4iOVi2M9aIb"
      },
      "source": [
        "Importamos las bibliotecas a utilizar"
      ]
    },
    {
      "cell_type": "code",
      "metadata": {
        "id": "6--Wdzuj71rP"
      },
      "source": [
        "import numpy as np\n",
        "import matplotlib.pyplot as plt\n",
        "import pandas as pd\n",
        "pd.pandas.set_option('display.max_columns', None)\n",
        "pd.pandas.set_option('display.max_rows', None)\n",
        "import seaborn as sns\n",
        "import statistics\n"
      ],
      "execution_count": 389,
      "outputs": []
    },
    {
      "cell_type": "markdown",
      "metadata": {
        "id": "JVyrJQhAFnHc"
      },
      "source": [
        "Cargamos los datos"
      ]
    },
    {
      "cell_type": "code",
      "metadata": {
        "colab": {
          "base_uri": "https://localhost:8080/"
        },
        "id": "AuRg6_jE8Bqo",
        "outputId": "12f1d0fc-9100-49bd-8233-b5e74144e056"
      },
      "source": [
        "data = pd.read_csv('test_challenge.csv',encoding='utf-8',decimal='.',thousands=',')\n",
        "data1 = pd.read_csv('train_challenge.csv',encoding='utf-8',decimal='.',thousands=',')\n",
        "\n",
        "data.shape"
      ],
      "execution_count": 390,
      "outputs": [
        {
          "output_type": "execute_result",
          "data": {
            "text/plain": [
              "(913, 4)"
            ]
          },
          "metadata": {
            "tags": []
          },
          "execution_count": 390
        }
      ]
    },
    {
      "cell_type": "code",
      "metadata": {
        "colab": {
          "base_uri": "https://localhost:8080/",
          "height": 195
        },
        "id": "hgLfDGqJF2WA",
        "outputId": "031dec9f-39ba-4660-a156-b5a037fcd88e"
      },
      "source": [
        "#test_challenge\n",
        "data.head(5)\n"
      ],
      "execution_count": 391,
      "outputs": [
        {
          "output_type": "execute_result",
          "data": {
            "text/html": [
              "<div>\n",
              "<style scoped>\n",
              "    .dataframe tbody tr th:only-of-type {\n",
              "        vertical-align: middle;\n",
              "    }\n",
              "\n",
              "    .dataframe tbody tr th {\n",
              "        vertical-align: top;\n",
              "    }\n",
              "\n",
              "    .dataframe thead th {\n",
              "        text-align: right;\n",
              "    }\n",
              "</style>\n",
              "<table border=\"1\" class=\"dataframe\">\n",
              "  <thead>\n",
              "    <tr style=\"text-align: right;\">\n",
              "      <th></th>\n",
              "      <th>name</th>\n",
              "      <th>description</th>\n",
              "      <th>maker</th>\n",
              "      <th>trademark</th>\n",
              "    </tr>\n",
              "  </thead>\n",
              "  <tbody>\n",
              "    <tr>\n",
              "      <th>0</th>\n",
              "      <td>Queso Sancor Gouda 280 Gr</td>\n",
              "      <td>Queso Sancor Gouda 280 Gr</td>\n",
              "      <td>NaN</td>\n",
              "      <td>Sancor</td>\n",
              "    </tr>\n",
              "    <tr>\n",
              "      <th>1</th>\n",
              "      <td>Jugo De Limón Delemon 1 L</td>\n",
              "      <td>Jugo De Limón Delemon 1 L</td>\n",
              "      <td>NaN</td>\n",
              "      <td>Delemon</td>\n",
              "    </tr>\n",
              "    <tr>\n",
              "      <th>2</th>\n",
              "      <td>Turrón Georgalos De Yema</td>\n",
              "      <td>Turrón Georgalos De Yema</td>\n",
              "      <td>NaN</td>\n",
              "      <td>Georgalos</td>\n",
              "    </tr>\n",
              "    <tr>\n",
              "      <th>3</th>\n",
              "      <td>Ketchup Danica X220Gr.Dp</td>\n",
              "      <td>Ketchup Danica X220Gr.Dp</td>\n",
              "      <td>NaN</td>\n",
              "      <td>La Gallega</td>\n",
              "    </tr>\n",
              "    <tr>\n",
              "      <th>4</th>\n",
              "      <td>Queso Reggianito La Paulina Trozado Paquete 1 Kg</td>\n",
              "      <td>Queso Reggianito La Paulina Trozado Paquete 1 Kg</td>\n",
              "      <td>NaN</td>\n",
              "      <td>La Paulina</td>\n",
              "    </tr>\n",
              "  </tbody>\n",
              "</table>\n",
              "</div>"
            ],
            "text/plain": [
              "                                               name  \\\n",
              "0                         Queso Sancor Gouda 280 Gr   \n",
              "1                         Jugo De Limón Delemon 1 L   \n",
              "2                          Turrón Georgalos De Yema   \n",
              "3                          Ketchup Danica X220Gr.Dp   \n",
              "4  Queso Reggianito La Paulina Trozado Paquete 1 Kg   \n",
              "\n",
              "                                        description maker   trademark  \n",
              "0                         Queso Sancor Gouda 280 Gr   NaN      Sancor  \n",
              "1                         Jugo De Limón Delemon 1 L   NaN     Delemon  \n",
              "2                          Turrón Georgalos De Yema   NaN   Georgalos  \n",
              "3                          Ketchup Danica X220Gr.Dp   NaN  La Gallega  \n",
              "4  Queso Reggianito La Paulina Trozado Paquete 1 Kg   NaN  La Paulina  "
            ]
          },
          "metadata": {
            "tags": []
          },
          "execution_count": 391
        }
      ]
    },
    {
      "cell_type": "code",
      "metadata": {
        "colab": {
          "base_uri": "https://localhost:8080/",
          "height": 195
        },
        "id": "efM0XwaqF3sL",
        "outputId": "4a978f76-3172-4f4e-8ebb-e65d5099645c"
      },
      "source": [
        "#train_challenge\n",
        "data1.head(5)\n"
      ],
      "execution_count": 392,
      "outputs": [
        {
          "output_type": "execute_result",
          "data": {
            "text/html": [
              "<div>\n",
              "<style scoped>\n",
              "    .dataframe tbody tr th:only-of-type {\n",
              "        vertical-align: middle;\n",
              "    }\n",
              "\n",
              "    .dataframe tbody tr th {\n",
              "        vertical-align: top;\n",
              "    }\n",
              "\n",
              "    .dataframe thead th {\n",
              "        text-align: right;\n",
              "    }\n",
              "</style>\n",
              "<table border=\"1\" class=\"dataframe\">\n",
              "  <thead>\n",
              "    <tr style=\"text-align: right;\">\n",
              "      <th></th>\n",
              "      <th>name</th>\n",
              "      <th>description</th>\n",
              "      <th>maker</th>\n",
              "      <th>trademark</th>\n",
              "    </tr>\n",
              "  </thead>\n",
              "  <tbody>\n",
              "    <tr>\n",
              "      <th>0</th>\n",
              "      <td>Cerveza Otro Mundo 500 Ml</td>\n",
              "      <td>Cerveza Otro Mundo 500 Ml</td>\n",
              "      <td>NaN</td>\n",
              "      <td>Otro Mundo</td>\n",
              "    </tr>\n",
              "    <tr>\n",
              "      <th>1</th>\n",
              "      <td>Vino San Telmo Varietales X750Ml.</td>\n",
              "      <td>Vino San Telmo Varietales X750Ml.</td>\n",
              "      <td>NaN</td>\n",
              "      <td>San Telmo</td>\n",
              "    </tr>\n",
              "    <tr>\n",
              "      <th>2</th>\n",
              "      <td>Mayonesa Natura 1000cc</td>\n",
              "      <td>Mayonesa Natura con jugo de limon sachet x 100...</td>\n",
              "      <td>gallega</td>\n",
              "      <td>Natura</td>\n",
              "    </tr>\n",
              "    <tr>\n",
              "      <th>3</th>\n",
              "      <td>Brahma Chopp 354cc x 6</td>\n",
              "      <td>Brahma Chopp 354cc x 6</td>\n",
              "      <td>NaN</td>\n",
              "      <td>Brahma</td>\n",
              "    </tr>\n",
              "    <tr>\n",
              "      <th>4</th>\n",
              "      <td>Mayonesa HellmannS Light Doypack 237 Gr</td>\n",
              "      <td>Mayonesa HellmannS Light Doypack 237 Gr</td>\n",
              "      <td>NaN</td>\n",
              "      <td>Hellmann´S</td>\n",
              "    </tr>\n",
              "  </tbody>\n",
              "</table>\n",
              "</div>"
            ],
            "text/plain": [
              "                                      name  \\\n",
              "0                Cerveza Otro Mundo 500 Ml   \n",
              "1        Vino San Telmo Varietales X750Ml.   \n",
              "2                   Mayonesa Natura 1000cc   \n",
              "3                   Brahma Chopp 354cc x 6   \n",
              "4  Mayonesa HellmannS Light Doypack 237 Gr   \n",
              "\n",
              "                                         description    maker   trademark  \n",
              "0                          Cerveza Otro Mundo 500 Ml      NaN  Otro Mundo  \n",
              "1                  Vino San Telmo Varietales X750Ml.      NaN   San Telmo  \n",
              "2  Mayonesa Natura con jugo de limon sachet x 100...  gallega      Natura  \n",
              "3                             Brahma Chopp 354cc x 6      NaN      Brahma  \n",
              "4            Mayonesa HellmannS Light Doypack 237 Gr      NaN  Hellmann´S  "
            ]
          },
          "metadata": {
            "tags": []
          },
          "execution_count": 392
        }
      ]
    },
    {
      "cell_type": "code",
      "metadata": {
        "colab": {
          "base_uri": "https://localhost:8080/"
        },
        "id": "YGro_QG22o3X",
        "outputId": "068e5889-e8ba-4257-923a-f431c4939987"
      },
      "source": [
        "data['name'].apply(lambda x: len(x.split(' '))).sum()"
      ],
      "execution_count": 393,
      "outputs": [
        {
          "output_type": "execute_result",
          "data": {
            "text/plain": [
              "5842"
            ]
          },
          "metadata": {
            "tags": []
          },
          "execution_count": 393
        }
      ]
    },
    {
      "cell_type": "markdown",
      "metadata": {
        "id": "AUAw0JBLUXvk"
      },
      "source": [
        "# Limpiamos los datos para poder analizarlos."
      ]
    },
    {
      "cell_type": "markdown",
      "metadata": {
        "id": "NMdatEukGmYO"
      },
      "source": [
        "Procedo con la primer limpieza de datos, y la creación de nuevas columnas para poder crear el dataset de entrenamiento, también se va aplicar Tokenizer para identificar los tipos de productos y agregaremos una columna que codifique el producto como un número entero porque las variables categóricas a menudo se representan mejor con números enteros que con cadenas. La estrategía para esta solución es directamente utilizar el dataset, aplicar bag of word y luego entrenar el mismo para predecir las subcategorías que no identificamos, para armar el bag of word se utilizó el archivo train challenge. Es una solución simple que tiene bajo consumo de recurso pero con alta efectividad."
      ]
    },
    {
      "cell_type": "code",
      "metadata": {
        "colab": {
          "base_uri": "https://localhost:8080/"
        },
        "id": "_NZHHEOgBvCh",
        "outputId": "bbe0cd2d-91fc-4bda-c025-e4e6ba878a24"
      },
      "source": [
        "import nltk\n",
        "nltk.download('punkt')\n",
        "nltk.download('stopwords')\n",
        "from nltk.corpus import stopwords\n",
        "from nltk.tokenize import RegexpTokenizer\n",
        "tokenizer = RegexpTokenizer(r'\\w+')\n",
        "stops=set(stopwords.words('spanish'))"
      ],
      "execution_count": 394,
      "outputs": [
        {
          "output_type": "stream",
          "text": [
            "[nltk_data] Downloading package punkt to /root/nltk_data...\n",
            "[nltk_data]   Package punkt is already up-to-date!\n",
            "[nltk_data] Downloading package stopwords to /root/nltk_data...\n",
            "[nltk_data]   Package stopwords is already up-to-date!\n"
          ],
          "name": "stdout"
        }
      ]
    },
    {
      "cell_type": "code",
      "metadata": {
        "colab": {
          "base_uri": "https://localhost:8080/",
          "height": 427
        },
        "id": "00MyhdFDY-lo",
        "outputId": "da160b4e-54a6-4944-cb14-4e1dd577e669"
      },
      "source": [
        "data['name_limp'] = data['name'].str.replace('?', ' ')\n",
        "data['name_limp'] = data['name_limp'].str.replace('.', ' ')\n",
        "data['name_limp'] = data['name_limp'].str.replace(',', ' ')\n",
        "data['name_limp'] = data['name_limp'].str.replace('!', '')\n",
        "#data['name_limp'] = data['name_limp'].str.replace('  ', '')\n",
        "data['name_limp'] = data['name_limp'].str.replace('-', '')\n",
        "data['name_limp'] = data['name_limp'].str.replace('\\d+', '')\n",
        "data['name_limp']= data['name_limp'].str.lower()\n",
        "\n",
        "def del_stop_words(sentence):\n",
        "  return \" \".join([word for word in tokenizer.tokenize(sentence) if word not in stops])\n",
        "data['tokens']=data['name_limp'].apply(del_stop_words)\n",
        "data['tokenized_sents'] = data.apply(lambda row: nltk.word_tokenize(row['tokens']), axis=1)\n",
        "data.head(10)\n",
        "\n",
        "\n"
      ],
      "execution_count": 395,
      "outputs": [
        {
          "output_type": "execute_result",
          "data": {
            "text/html": [
              "<div>\n",
              "<style scoped>\n",
              "    .dataframe tbody tr th:only-of-type {\n",
              "        vertical-align: middle;\n",
              "    }\n",
              "\n",
              "    .dataframe tbody tr th {\n",
              "        vertical-align: top;\n",
              "    }\n",
              "\n",
              "    .dataframe thead th {\n",
              "        text-align: right;\n",
              "    }\n",
              "</style>\n",
              "<table border=\"1\" class=\"dataframe\">\n",
              "  <thead>\n",
              "    <tr style=\"text-align: right;\">\n",
              "      <th></th>\n",
              "      <th>name</th>\n",
              "      <th>description</th>\n",
              "      <th>maker</th>\n",
              "      <th>trademark</th>\n",
              "      <th>name_limp</th>\n",
              "      <th>tokens</th>\n",
              "      <th>tokenized_sents</th>\n",
              "    </tr>\n",
              "  </thead>\n",
              "  <tbody>\n",
              "    <tr>\n",
              "      <th>0</th>\n",
              "      <td>Queso Sancor Gouda 280 Gr</td>\n",
              "      <td>Queso Sancor Gouda 280 Gr</td>\n",
              "      <td>NaN</td>\n",
              "      <td>Sancor</td>\n",
              "      <td>queso sancor gouda  gr</td>\n",
              "      <td>queso sancor gouda gr</td>\n",
              "      <td>[queso, sancor, gouda, gr]</td>\n",
              "    </tr>\n",
              "    <tr>\n",
              "      <th>1</th>\n",
              "      <td>Jugo De Limón Delemon 1 L</td>\n",
              "      <td>Jugo De Limón Delemon 1 L</td>\n",
              "      <td>NaN</td>\n",
              "      <td>Delemon</td>\n",
              "      <td>jugo de limón delemon  l</td>\n",
              "      <td>jugo limón delemon l</td>\n",
              "      <td>[jugo, limón, delemon, l]</td>\n",
              "    </tr>\n",
              "    <tr>\n",
              "      <th>2</th>\n",
              "      <td>Turrón Georgalos De Yema</td>\n",
              "      <td>Turrón Georgalos De Yema</td>\n",
              "      <td>NaN</td>\n",
              "      <td>Georgalos</td>\n",
              "      <td>turrón georgalos de yema</td>\n",
              "      <td>turrón georgalos yema</td>\n",
              "      <td>[turrón, georgalos, yema]</td>\n",
              "    </tr>\n",
              "    <tr>\n",
              "      <th>3</th>\n",
              "      <td>Ketchup Danica X220Gr.Dp</td>\n",
              "      <td>Ketchup Danica X220Gr.Dp</td>\n",
              "      <td>NaN</td>\n",
              "      <td>La Gallega</td>\n",
              "      <td>ketchup danica xgr dp</td>\n",
              "      <td>ketchup danica xgr dp</td>\n",
              "      <td>[ketchup, danica, xgr, dp]</td>\n",
              "    </tr>\n",
              "    <tr>\n",
              "      <th>4</th>\n",
              "      <td>Queso Reggianito La Paulina Trozado Paquete 1 Kg</td>\n",
              "      <td>Queso Reggianito La Paulina Trozado Paquete 1 Kg</td>\n",
              "      <td>NaN</td>\n",
              "      <td>La Paulina</td>\n",
              "      <td>queso reggianito la paulina trozado paquete  kg</td>\n",
              "      <td>queso reggianito paulina trozado paquete kg</td>\n",
              "      <td>[queso, reggianito, paulina, trozado, paquete,...</td>\n",
              "    </tr>\n",
              "    <tr>\n",
              "      <th>5</th>\n",
              "      <td>Caramelos Pico Dulce 150 Gr</td>\n",
              "      <td>Caramelos Pico Dulce 150 Gr</td>\n",
              "      <td>NaN</td>\n",
              "      <td>Lheritier</td>\n",
              "      <td>caramelos pico dulce  gr</td>\n",
              "      <td>caramelos pico dulce gr</td>\n",
              "      <td>[caramelos, pico, dulce, gr]</td>\n",
              "    </tr>\n",
              "    <tr>\n",
              "      <th>6</th>\n",
              "      <td>Chimichurri Hellmann'S 355 Gr</td>\n",
              "      <td>Chimichurri Hellmann'S 355 Gr</td>\n",
              "      <td>NaN</td>\n",
              "      <td>Hellmann´S</td>\n",
              "      <td>chimichurri hellmann's  gr</td>\n",
              "      <td>chimichurri hellmann s gr</td>\n",
              "      <td>[chimichurri, hellmann, s, gr]</td>\n",
              "    </tr>\n",
              "    <tr>\n",
              "      <th>7</th>\n",
              "      <td>Vino Fino Ampakama Cabernet Sauvignon</td>\n",
              "      <td>Vino Tinto Fino Ampakama Intenso Cabernet Sauv...</td>\n",
              "      <td>NaN</td>\n",
              "      <td>Ampakama</td>\n",
              "      <td>vino fino ampakama cabernet sauvignon</td>\n",
              "      <td>vino fino ampakama cabernet sauvignon</td>\n",
              "      <td>[vino, fino, ampakama, cabernet, sauvignon]</td>\n",
              "    </tr>\n",
              "    <tr>\n",
              "      <th>8</th>\n",
              "      <td>Leche Entera Vit A C D B9 La Serenisima 1lt</td>\n",
              "      <td>LECHE ENTERA LA SERENISIMA ULT.CA.NAT. ACDyB9</td>\n",
              "      <td>gallega</td>\n",
              "      <td>La Serenisima</td>\n",
              "      <td>leche entera vit a c d b la serenisima lt</td>\n",
              "      <td>leche entera vit c d b serenisima lt</td>\n",
              "      <td>[leche, entera, vit, c, d, b, serenisima, lt]</td>\n",
              "    </tr>\n",
              "    <tr>\n",
              "      <th>9</th>\n",
              "      <td>Vino Blanco Frizze Evolution Ultra Blue 750 Cc</td>\n",
              "      <td>Vino Blanco Frizze Evolution Ultra Blue 750 Cc</td>\n",
              "      <td>Frizze</td>\n",
              "      <td>Frizze</td>\n",
              "      <td>vino blanco frizze evolution ultra blue  cc</td>\n",
              "      <td>vino blanco frizze evolution ultra blue cc</td>\n",
              "      <td>[vino, blanco, frizze, evolution, ultra, blue,...</td>\n",
              "    </tr>\n",
              "  </tbody>\n",
              "</table>\n",
              "</div>"
            ],
            "text/plain": [
              "                                               name  \\\n",
              "0                         Queso Sancor Gouda 280 Gr   \n",
              "1                         Jugo De Limón Delemon 1 L   \n",
              "2                          Turrón Georgalos De Yema   \n",
              "3                          Ketchup Danica X220Gr.Dp   \n",
              "4  Queso Reggianito La Paulina Trozado Paquete 1 Kg   \n",
              "5                       Caramelos Pico Dulce 150 Gr   \n",
              "6                     Chimichurri Hellmann'S 355 Gr   \n",
              "7             Vino Fino Ampakama Cabernet Sauvignon   \n",
              "8       Leche Entera Vit A C D B9 La Serenisima 1lt   \n",
              "9    Vino Blanco Frizze Evolution Ultra Blue 750 Cc   \n",
              "\n",
              "                                         description    maker      trademark  \\\n",
              "0                          Queso Sancor Gouda 280 Gr      NaN         Sancor   \n",
              "1                          Jugo De Limón Delemon 1 L      NaN        Delemon   \n",
              "2                           Turrón Georgalos De Yema      NaN      Georgalos   \n",
              "3                           Ketchup Danica X220Gr.Dp      NaN     La Gallega   \n",
              "4   Queso Reggianito La Paulina Trozado Paquete 1 Kg      NaN     La Paulina   \n",
              "5                        Caramelos Pico Dulce 150 Gr      NaN      Lheritier   \n",
              "6                      Chimichurri Hellmann'S 355 Gr      NaN     Hellmann´S   \n",
              "7  Vino Tinto Fino Ampakama Intenso Cabernet Sauv...      NaN       Ampakama   \n",
              "8      LECHE ENTERA LA SERENISIMA ULT.CA.NAT. ACDyB9  gallega  La Serenisima   \n",
              "9     Vino Blanco Frizze Evolution Ultra Blue 750 Cc   Frizze         Frizze   \n",
              "\n",
              "                                         name_limp  \\\n",
              "0                           queso sancor gouda  gr   \n",
              "1                         jugo de limón delemon  l   \n",
              "2                         turrón georgalos de yema   \n",
              "3                            ketchup danica xgr dp   \n",
              "4  queso reggianito la paulina trozado paquete  kg   \n",
              "5                         caramelos pico dulce  gr   \n",
              "6                       chimichurri hellmann's  gr   \n",
              "7            vino fino ampakama cabernet sauvignon   \n",
              "8        leche entera vit a c d b la serenisima lt   \n",
              "9      vino blanco frizze evolution ultra blue  cc   \n",
              "\n",
              "                                        tokens  \\\n",
              "0                        queso sancor gouda gr   \n",
              "1                         jugo limón delemon l   \n",
              "2                        turrón georgalos yema   \n",
              "3                        ketchup danica xgr dp   \n",
              "4  queso reggianito paulina trozado paquete kg   \n",
              "5                      caramelos pico dulce gr   \n",
              "6                    chimichurri hellmann s gr   \n",
              "7        vino fino ampakama cabernet sauvignon   \n",
              "8         leche entera vit c d b serenisima lt   \n",
              "9   vino blanco frizze evolution ultra blue cc   \n",
              "\n",
              "                                     tokenized_sents  \n",
              "0                         [queso, sancor, gouda, gr]  \n",
              "1                          [jugo, limón, delemon, l]  \n",
              "2                          [turrón, georgalos, yema]  \n",
              "3                         [ketchup, danica, xgr, dp]  \n",
              "4  [queso, reggianito, paulina, trozado, paquete,...  \n",
              "5                       [caramelos, pico, dulce, gr]  \n",
              "6                     [chimichurri, hellmann, s, gr]  \n",
              "7        [vino, fino, ampakama, cabernet, sauvignon]  \n",
              "8      [leche, entera, vit, c, d, b, serenisima, lt]  \n",
              "9  [vino, blanco, frizze, evolution, ultra, blue,...  "
            ]
          },
          "metadata": {
            "tags": []
          },
          "execution_count": 395
        }
      ]
    },
    {
      "cell_type": "code",
      "metadata": {
        "colab": {
          "base_uri": "https://localhost:8080/",
          "height": 296
        },
        "id": "wdl8Zw0GZsdW",
        "outputId": "c5803b4e-4c94-4a44-a213-81cb025cfc5e"
      },
      "source": [
        "data2= pd.DataFrame(data.tokens.str.split(\" \",expand=True,))\n",
        "data3=pd.concat([data.reset_index(drop=True),\n",
        "                      data2.reset_index(drop=True)], axis=1)\n",
        "data3.head(5)"
      ],
      "execution_count": 396,
      "outputs": [
        {
          "output_type": "execute_result",
          "data": {
            "text/html": [
              "<div>\n",
              "<style scoped>\n",
              "    .dataframe tbody tr th:only-of-type {\n",
              "        vertical-align: middle;\n",
              "    }\n",
              "\n",
              "    .dataframe tbody tr th {\n",
              "        vertical-align: top;\n",
              "    }\n",
              "\n",
              "    .dataframe thead th {\n",
              "        text-align: right;\n",
              "    }\n",
              "</style>\n",
              "<table border=\"1\" class=\"dataframe\">\n",
              "  <thead>\n",
              "    <tr style=\"text-align: right;\">\n",
              "      <th></th>\n",
              "      <th>name</th>\n",
              "      <th>description</th>\n",
              "      <th>maker</th>\n",
              "      <th>trademark</th>\n",
              "      <th>name_limp</th>\n",
              "      <th>tokens</th>\n",
              "      <th>tokenized_sents</th>\n",
              "      <th>0</th>\n",
              "      <th>1</th>\n",
              "      <th>2</th>\n",
              "      <th>3</th>\n",
              "      <th>4</th>\n",
              "      <th>5</th>\n",
              "      <th>6</th>\n",
              "      <th>7</th>\n",
              "      <th>8</th>\n",
              "    </tr>\n",
              "  </thead>\n",
              "  <tbody>\n",
              "    <tr>\n",
              "      <th>0</th>\n",
              "      <td>Queso Sancor Gouda 280 Gr</td>\n",
              "      <td>Queso Sancor Gouda 280 Gr</td>\n",
              "      <td>NaN</td>\n",
              "      <td>Sancor</td>\n",
              "      <td>queso sancor gouda  gr</td>\n",
              "      <td>queso sancor gouda gr</td>\n",
              "      <td>[queso, sancor, gouda, gr]</td>\n",
              "      <td>queso</td>\n",
              "      <td>sancor</td>\n",
              "      <td>gouda</td>\n",
              "      <td>gr</td>\n",
              "      <td>None</td>\n",
              "      <td>None</td>\n",
              "      <td>None</td>\n",
              "      <td>None</td>\n",
              "      <td>None</td>\n",
              "    </tr>\n",
              "    <tr>\n",
              "      <th>1</th>\n",
              "      <td>Jugo De Limón Delemon 1 L</td>\n",
              "      <td>Jugo De Limón Delemon 1 L</td>\n",
              "      <td>NaN</td>\n",
              "      <td>Delemon</td>\n",
              "      <td>jugo de limón delemon  l</td>\n",
              "      <td>jugo limón delemon l</td>\n",
              "      <td>[jugo, limón, delemon, l]</td>\n",
              "      <td>jugo</td>\n",
              "      <td>limón</td>\n",
              "      <td>delemon</td>\n",
              "      <td>l</td>\n",
              "      <td>None</td>\n",
              "      <td>None</td>\n",
              "      <td>None</td>\n",
              "      <td>None</td>\n",
              "      <td>None</td>\n",
              "    </tr>\n",
              "    <tr>\n",
              "      <th>2</th>\n",
              "      <td>Turrón Georgalos De Yema</td>\n",
              "      <td>Turrón Georgalos De Yema</td>\n",
              "      <td>NaN</td>\n",
              "      <td>Georgalos</td>\n",
              "      <td>turrón georgalos de yema</td>\n",
              "      <td>turrón georgalos yema</td>\n",
              "      <td>[turrón, georgalos, yema]</td>\n",
              "      <td>turrón</td>\n",
              "      <td>georgalos</td>\n",
              "      <td>yema</td>\n",
              "      <td>None</td>\n",
              "      <td>None</td>\n",
              "      <td>None</td>\n",
              "      <td>None</td>\n",
              "      <td>None</td>\n",
              "      <td>None</td>\n",
              "    </tr>\n",
              "    <tr>\n",
              "      <th>3</th>\n",
              "      <td>Ketchup Danica X220Gr.Dp</td>\n",
              "      <td>Ketchup Danica X220Gr.Dp</td>\n",
              "      <td>NaN</td>\n",
              "      <td>La Gallega</td>\n",
              "      <td>ketchup danica xgr dp</td>\n",
              "      <td>ketchup danica xgr dp</td>\n",
              "      <td>[ketchup, danica, xgr, dp]</td>\n",
              "      <td>ketchup</td>\n",
              "      <td>danica</td>\n",
              "      <td>xgr</td>\n",
              "      <td>dp</td>\n",
              "      <td>None</td>\n",
              "      <td>None</td>\n",
              "      <td>None</td>\n",
              "      <td>None</td>\n",
              "      <td>None</td>\n",
              "    </tr>\n",
              "    <tr>\n",
              "      <th>4</th>\n",
              "      <td>Queso Reggianito La Paulina Trozado Paquete 1 Kg</td>\n",
              "      <td>Queso Reggianito La Paulina Trozado Paquete 1 Kg</td>\n",
              "      <td>NaN</td>\n",
              "      <td>La Paulina</td>\n",
              "      <td>queso reggianito la paulina trozado paquete  kg</td>\n",
              "      <td>queso reggianito paulina trozado paquete kg</td>\n",
              "      <td>[queso, reggianito, paulina, trozado, paquete,...</td>\n",
              "      <td>queso</td>\n",
              "      <td>reggianito</td>\n",
              "      <td>paulina</td>\n",
              "      <td>trozado</td>\n",
              "      <td>paquete</td>\n",
              "      <td>kg</td>\n",
              "      <td>None</td>\n",
              "      <td>None</td>\n",
              "      <td>None</td>\n",
              "    </tr>\n",
              "  </tbody>\n",
              "</table>\n",
              "</div>"
            ],
            "text/plain": [
              "                                               name  \\\n",
              "0                         Queso Sancor Gouda 280 Gr   \n",
              "1                         Jugo De Limón Delemon 1 L   \n",
              "2                          Turrón Georgalos De Yema   \n",
              "3                          Ketchup Danica X220Gr.Dp   \n",
              "4  Queso Reggianito La Paulina Trozado Paquete 1 Kg   \n",
              "\n",
              "                                        description maker   trademark  \\\n",
              "0                         Queso Sancor Gouda 280 Gr   NaN      Sancor   \n",
              "1                         Jugo De Limón Delemon 1 L   NaN     Delemon   \n",
              "2                          Turrón Georgalos De Yema   NaN   Georgalos   \n",
              "3                          Ketchup Danica X220Gr.Dp   NaN  La Gallega   \n",
              "4  Queso Reggianito La Paulina Trozado Paquete 1 Kg   NaN  La Paulina   \n",
              "\n",
              "                                         name_limp  \\\n",
              "0                           queso sancor gouda  gr   \n",
              "1                         jugo de limón delemon  l   \n",
              "2                         turrón georgalos de yema   \n",
              "3                            ketchup danica xgr dp   \n",
              "4  queso reggianito la paulina trozado paquete  kg   \n",
              "\n",
              "                                        tokens  \\\n",
              "0                        queso sancor gouda gr   \n",
              "1                         jugo limón delemon l   \n",
              "2                        turrón georgalos yema   \n",
              "3                        ketchup danica xgr dp   \n",
              "4  queso reggianito paulina trozado paquete kg   \n",
              "\n",
              "                                     tokenized_sents        0           1  \\\n",
              "0                         [queso, sancor, gouda, gr]    queso      sancor   \n",
              "1                          [jugo, limón, delemon, l]     jugo       limón   \n",
              "2                          [turrón, georgalos, yema]   turrón   georgalos   \n",
              "3                         [ketchup, danica, xgr, dp]  ketchup      danica   \n",
              "4  [queso, reggianito, paulina, trozado, paquete,...    queso  reggianito   \n",
              "\n",
              "         2        3        4     5     6     7     8  \n",
              "0    gouda       gr     None  None  None  None  None  \n",
              "1  delemon        l     None  None  None  None  None  \n",
              "2     yema     None     None  None  None  None  None  \n",
              "3      xgr       dp     None  None  None  None  None  \n",
              "4  paulina  trozado  paquete    kg  None  None  None  "
            ]
          },
          "metadata": {
            "tags": []
          },
          "execution_count": 396
        }
      ]
    },
    {
      "cell_type": "code",
      "metadata": {
        "id": "_CY9vGbu0Xaj"
      },
      "source": [
        "data3.rename({0: \"Producto\",  \n",
        "           1: \"dos\",  \n",
        "           2: \"tres\"},  \n",
        "          axis = \"columns\", inplace = True)"
      ],
      "execution_count": 397,
      "outputs": []
    },
    {
      "cell_type": "code",
      "metadata": {
        "colab": {
          "base_uri": "https://localhost:8080/",
          "height": 140
        },
        "id": "4bKTyNKReQxq",
        "outputId": "83a63273-f6aa-4420-deb8-7d5844e858e5"
      },
      "source": [
        "data3.head(2)"
      ],
      "execution_count": 398,
      "outputs": [
        {
          "output_type": "execute_result",
          "data": {
            "text/html": [
              "<div>\n",
              "<style scoped>\n",
              "    .dataframe tbody tr th:only-of-type {\n",
              "        vertical-align: middle;\n",
              "    }\n",
              "\n",
              "    .dataframe tbody tr th {\n",
              "        vertical-align: top;\n",
              "    }\n",
              "\n",
              "    .dataframe thead th {\n",
              "        text-align: right;\n",
              "    }\n",
              "</style>\n",
              "<table border=\"1\" class=\"dataframe\">\n",
              "  <thead>\n",
              "    <tr style=\"text-align: right;\">\n",
              "      <th></th>\n",
              "      <th>name</th>\n",
              "      <th>description</th>\n",
              "      <th>maker</th>\n",
              "      <th>trademark</th>\n",
              "      <th>name_limp</th>\n",
              "      <th>tokens</th>\n",
              "      <th>tokenized_sents</th>\n",
              "      <th>Producto</th>\n",
              "      <th>dos</th>\n",
              "      <th>tres</th>\n",
              "      <th>3</th>\n",
              "      <th>4</th>\n",
              "      <th>5</th>\n",
              "      <th>6</th>\n",
              "      <th>7</th>\n",
              "      <th>8</th>\n",
              "    </tr>\n",
              "  </thead>\n",
              "  <tbody>\n",
              "    <tr>\n",
              "      <th>0</th>\n",
              "      <td>Queso Sancor Gouda 280 Gr</td>\n",
              "      <td>Queso Sancor Gouda 280 Gr</td>\n",
              "      <td>NaN</td>\n",
              "      <td>Sancor</td>\n",
              "      <td>queso sancor gouda  gr</td>\n",
              "      <td>queso sancor gouda gr</td>\n",
              "      <td>[queso, sancor, gouda, gr]</td>\n",
              "      <td>queso</td>\n",
              "      <td>sancor</td>\n",
              "      <td>gouda</td>\n",
              "      <td>gr</td>\n",
              "      <td>None</td>\n",
              "      <td>None</td>\n",
              "      <td>None</td>\n",
              "      <td>None</td>\n",
              "      <td>None</td>\n",
              "    </tr>\n",
              "    <tr>\n",
              "      <th>1</th>\n",
              "      <td>Jugo De Limón Delemon 1 L</td>\n",
              "      <td>Jugo De Limón Delemon 1 L</td>\n",
              "      <td>NaN</td>\n",
              "      <td>Delemon</td>\n",
              "      <td>jugo de limón delemon  l</td>\n",
              "      <td>jugo limón delemon l</td>\n",
              "      <td>[jugo, limón, delemon, l]</td>\n",
              "      <td>jugo</td>\n",
              "      <td>limón</td>\n",
              "      <td>delemon</td>\n",
              "      <td>l</td>\n",
              "      <td>None</td>\n",
              "      <td>None</td>\n",
              "      <td>None</td>\n",
              "      <td>None</td>\n",
              "      <td>None</td>\n",
              "    </tr>\n",
              "  </tbody>\n",
              "</table>\n",
              "</div>"
            ],
            "text/plain": [
              "                        name                description maker trademark  \\\n",
              "0  Queso Sancor Gouda 280 Gr  Queso Sancor Gouda 280 Gr   NaN    Sancor   \n",
              "1  Jugo De Limón Delemon 1 L  Jugo De Limón Delemon 1 L   NaN   Delemon   \n",
              "\n",
              "                  name_limp                 tokens  \\\n",
              "0    queso sancor gouda  gr  queso sancor gouda gr   \n",
              "1  jugo de limón delemon  l   jugo limón delemon l   \n",
              "\n",
              "              tokenized_sents Producto     dos     tres   3     4     5     6  \\\n",
              "0  [queso, sancor, gouda, gr]    queso  sancor    gouda  gr  None  None  None   \n",
              "1   [jugo, limón, delemon, l]     jugo   limón  delemon   l  None  None  None   \n",
              "\n",
              "      7     8  \n",
              "0  None  None  \n",
              "1  None  None  "
            ]
          },
          "metadata": {
            "tags": []
          },
          "execution_count": 398
        }
      ]
    },
    {
      "cell_type": "code",
      "metadata": {
        "id": "QUkCKKjveKnz"
      },
      "source": [
        "data3['Producto2']=data3['Producto']+' '+data3['dos']"
      ],
      "execution_count": 399,
      "outputs": []
    },
    {
      "cell_type": "code",
      "metadata": {
        "colab": {
          "base_uri": "https://localhost:8080/",
          "height": 195
        },
        "id": "Su3dBbtlgqeo",
        "outputId": "afafe93b-df87-4422-b272-fb8c9a1fb1ac"
      },
      "source": [
        "data3.loc[:,['name','tokens','Producto2']].head(5)"
      ],
      "execution_count": 400,
      "outputs": [
        {
          "output_type": "execute_result",
          "data": {
            "text/html": [
              "<div>\n",
              "<style scoped>\n",
              "    .dataframe tbody tr th:only-of-type {\n",
              "        vertical-align: middle;\n",
              "    }\n",
              "\n",
              "    .dataframe tbody tr th {\n",
              "        vertical-align: top;\n",
              "    }\n",
              "\n",
              "    .dataframe thead th {\n",
              "        text-align: right;\n",
              "    }\n",
              "</style>\n",
              "<table border=\"1\" class=\"dataframe\">\n",
              "  <thead>\n",
              "    <tr style=\"text-align: right;\">\n",
              "      <th></th>\n",
              "      <th>name</th>\n",
              "      <th>tokens</th>\n",
              "      <th>Producto2</th>\n",
              "    </tr>\n",
              "  </thead>\n",
              "  <tbody>\n",
              "    <tr>\n",
              "      <th>0</th>\n",
              "      <td>Queso Sancor Gouda 280 Gr</td>\n",
              "      <td>queso sancor gouda gr</td>\n",
              "      <td>queso sancor</td>\n",
              "    </tr>\n",
              "    <tr>\n",
              "      <th>1</th>\n",
              "      <td>Jugo De Limón Delemon 1 L</td>\n",
              "      <td>jugo limón delemon l</td>\n",
              "      <td>jugo limón</td>\n",
              "    </tr>\n",
              "    <tr>\n",
              "      <th>2</th>\n",
              "      <td>Turrón Georgalos De Yema</td>\n",
              "      <td>turrón georgalos yema</td>\n",
              "      <td>turrón georgalos</td>\n",
              "    </tr>\n",
              "    <tr>\n",
              "      <th>3</th>\n",
              "      <td>Ketchup Danica X220Gr.Dp</td>\n",
              "      <td>ketchup danica xgr dp</td>\n",
              "      <td>ketchup danica</td>\n",
              "    </tr>\n",
              "    <tr>\n",
              "      <th>4</th>\n",
              "      <td>Queso Reggianito La Paulina Trozado Paquete 1 Kg</td>\n",
              "      <td>queso reggianito paulina trozado paquete kg</td>\n",
              "      <td>queso reggianito</td>\n",
              "    </tr>\n",
              "  </tbody>\n",
              "</table>\n",
              "</div>"
            ],
            "text/plain": [
              "                                               name  \\\n",
              "0                         Queso Sancor Gouda 280 Gr   \n",
              "1                         Jugo De Limón Delemon 1 L   \n",
              "2                          Turrón Georgalos De Yema   \n",
              "3                          Ketchup Danica X220Gr.Dp   \n",
              "4  Queso Reggianito La Paulina Trozado Paquete 1 Kg   \n",
              "\n",
              "                                        tokens         Producto2  \n",
              "0                        queso sancor gouda gr      queso sancor  \n",
              "1                         jugo limón delemon l        jugo limón  \n",
              "2                        turrón georgalos yema  turrón georgalos  \n",
              "3                        ketchup danica xgr dp    ketchup danica  \n",
              "4  queso reggianito paulina trozado paquete kg  queso reggianito  "
            ]
          },
          "metadata": {
            "tags": []
          },
          "execution_count": 400
        }
      ]
    },
    {
      "cell_type": "markdown",
      "metadata": {
        "id": "BhPkXmdlUe_8"
      },
      "source": [
        "# Armamos el bag of word"
      ]
    },
    {
      "cell_type": "code",
      "metadata": {
        "id": "LXVYT7oG-3v7"
      },
      "source": [
        "# Guia/rbol\n",
        "#Almacén: ['Fiambres', \n",
        "# 'Panificados', \n",
        "# 'Salchichas', \n",
        "# 'Aderezos', \n",
        "# 'Aceites y Vinagres', \n",
        "# 'Golosinas y Chocolates'], \n",
        "#Bebidas: ['Jugos', 'Aguas'], \n",
        "#Bebidas alcohólicas: ['Vinos', 'Cervezas', 'Whiskies', 'Champagnes'], \n",
        "#Lacteos: ['Quesos', 'Leches', 'Yogures']"
      ],
      "execution_count": 401,
      "outputs": []
    },
    {
      "cell_type": "markdown",
      "metadata": {
        "id": "0qbsvpNHp1go"
      },
      "source": [
        "Distribución de la primera palabra de la descripción del producto. Estas distribuciones se utilizaron para identificar las que más se repiten y armar el bag od word."
      ]
    },
    {
      "cell_type": "code",
      "metadata": {
        "id": "Ei9mu1bczYsf",
        "colab": {
          "base_uri": "https://localhost:8080/",
          "height": 343
        },
        "outputId": "68ac512d-a1c3-40bd-8620-5845bb9f1326"
      },
      "source": [
        "ver=pd.DataFrame(data3.groupby(['Producto']).size().sort_values(ascending=False).reset_index(inplace=False))\n",
        "ver.to_csv('arbol_productos.csv')\n",
        "ver.head(10)"
      ],
      "execution_count": 402,
      "outputs": [
        {
          "output_type": "execute_result",
          "data": {
            "text/html": [
              "<div>\n",
              "<style scoped>\n",
              "    .dataframe tbody tr th:only-of-type {\n",
              "        vertical-align: middle;\n",
              "    }\n",
              "\n",
              "    .dataframe tbody tr th {\n",
              "        vertical-align: top;\n",
              "    }\n",
              "\n",
              "    .dataframe thead th {\n",
              "        text-align: right;\n",
              "    }\n",
              "</style>\n",
              "<table border=\"1\" class=\"dataframe\">\n",
              "  <thead>\n",
              "    <tr style=\"text-align: right;\">\n",
              "      <th></th>\n",
              "      <th>Producto</th>\n",
              "      <th>0</th>\n",
              "    </tr>\n",
              "  </thead>\n",
              "  <tbody>\n",
              "    <tr>\n",
              "      <th>0</th>\n",
              "      <td>vino</td>\n",
              "      <td>167</td>\n",
              "    </tr>\n",
              "    <tr>\n",
              "      <th>1</th>\n",
              "      <td>queso</td>\n",
              "      <td>99</td>\n",
              "    </tr>\n",
              "    <tr>\n",
              "      <th>2</th>\n",
              "      <td>jugo</td>\n",
              "      <td>61</td>\n",
              "    </tr>\n",
              "    <tr>\n",
              "      <th>3</th>\n",
              "      <td>cerveza</td>\n",
              "      <td>57</td>\n",
              "    </tr>\n",
              "    <tr>\n",
              "      <th>4</th>\n",
              "      <td>chocolate</td>\n",
              "      <td>47</td>\n",
              "    </tr>\n",
              "    <tr>\n",
              "      <th>5</th>\n",
              "      <td>agua</td>\n",
              "      <td>45</td>\n",
              "    </tr>\n",
              "    <tr>\n",
              "      <th>6</th>\n",
              "      <td>yogur</td>\n",
              "      <td>31</td>\n",
              "    </tr>\n",
              "    <tr>\n",
              "      <th>7</th>\n",
              "      <td>leche</td>\n",
              "      <td>24</td>\n",
              "    </tr>\n",
              "    <tr>\n",
              "      <th>8</th>\n",
              "      <td>champaña</td>\n",
              "      <td>23</td>\n",
              "    </tr>\n",
              "    <tr>\n",
              "      <th>9</th>\n",
              "      <td>aceite</td>\n",
              "      <td>22</td>\n",
              "    </tr>\n",
              "  </tbody>\n",
              "</table>\n",
              "</div>"
            ],
            "text/plain": [
              "    Producto    0\n",
              "0       vino  167\n",
              "1      queso   99\n",
              "2       jugo   61\n",
              "3    cerveza   57\n",
              "4  chocolate   47\n",
              "5       agua   45\n",
              "6      yogur   31\n",
              "7      leche   24\n",
              "8   champaña   23\n",
              "9     aceite   22"
            ]
          },
          "metadata": {
            "tags": []
          },
          "execution_count": 402
        }
      ]
    },
    {
      "cell_type": "markdown",
      "metadata": {
        "id": "Yx33iBt9z5S9"
      },
      "source": [
        "Para armar el bag of word se utilizó el archivo **train_challenge.csv**"
      ]
    },
    {
      "cell_type": "code",
      "metadata": {
        "id": "_Bga1_ntGSfW"
      },
      "source": [
        "test_list = [['vino',\t'queso',\t'jugo',\t'cerveza',\t'agua',\t'chocolate',\t'yogur',\t'leche',\t'yogurt',\t'aceite',\t'champaña',\t'pan',\t'salsa',\t'caramelos',\t'alfajor',\t'whisky',\t'aderezo',\t'huevo',\t'gomitas',\t'mayonesa',\t'jamón',\t'vinagre',\t'salchichas',\t'espumante',\t'bebida',\t'bombones',\t'oblea',\t'aceto',\t'chicle',\t'alfajores',\t'mostaza',\t'salame',\t'confites',\t'postre',\t'limonada',\t'pastillas',\t'turrón',\t'tableta',\t'ketchup',\t'mortadela',\t'champagne',\t'caramelo',\t'salchicha',\t'quilmes',\t'rebozador',\t'obleas',\t'salamín',\t'bocaditos',\t'tostadas',\t'chimichurri',\t'chupetines',\t'chicles',\t'bon',\t'salchichón',\t'chocolates',\t'turron',\t'galletitas',\t'jamon',\t'dulce',\t'quesitos',\t'mini',\t'soda',\t'lomo',\t'tabla',\t'leberwurst',\t'fórmula',\t'fiambre',\t'frizze',\t'seremix',\t'chocghirardelli',\t'chupetín',\t'bondiola',\t'panceta',\t'chupetin',\t'yogurisimo',\t'champa',\t'almendras',\t'gaseosa',\t'bombón','chocolateafter','cubanitos'],\n",
        "             ['Vino',\t'Quesos',\t'Jugos',\t'Cervezas',\t'Aguas',\t'Golosinas y Chocolates',\t'Yogures',\t'Leches',\t'Yogures',\t'Aceites y Vinagres',\t'Champagnes',\t'Panificados',\t'Aderezos',\t'Golosinas y Chocolates',\t'Golosinas y Chocolates',\t'Whiskies',\t'Aderezos',\t'Golosinas y Chocolates',\t'Golosinas y Chocolates',\t'Aderezos',\t'Fiambres',\t'Aceites y Vinagres',\t'Salchichas',\t'Champagnes',\t'Jugos',\t'Golosinas y Chocolates',\t'Golosinas y Chocolates',\t'Aceites y Vinagres',\t'Golosinas y Chocolates',\t'Golosinas y Chocolates',\t'Aderezos',\t'Fiambres',\t'Golosinas y Chocolates',\t'Golosinas y Chocolates',\t'Jugos',\t'Golosinas y Chocolates',\t'Golosinas y Chocolates',\t'Golosinas y Chocolates',\t'Aderezos',\t'Fiambres',\t'Champagnes',\t'Golosinas y Chocolates',\t'Salchichas',\t'Cervezas',\t'Panificados',\t'Golosinas y Chocolates',\t'Fiambres',\t'Golosinas y Chocolates',\t'Panificados',\t'Aderezos',\t'Golosinas y Chocolates',\t'Golosinas y Chocolates',\t'Golosinas y Chocolates',\t'Fiambres',\t'Golosinas y Chocolates',\t'Golosinas y Chocolates',\t'Golosinas y Chocolates',\t'Fiambres',\t'Golosinas y Chocolates',\t'Quesos',\t'Golosinas y Chocolates',\t'Aguas',\t'Fiambres',\t'Fiambres',\t'Fiambres',\t'Leches',\t'Fiambres',\t'Vino',\t'Leches',\t'Golosinas y Chocolates',\t'Golosinas y Chocolates',\t'Fiambres',\t'Fiambres',\t'Golosinas y Chocolates',\t'Yogures',\t'Champagnes',\t'Golosinas y Chocolates',\t'Jugos','Golosinas y Chocolates','Golosinas y Chocolates','Golosinas y Chocolates']]"
      ],
      "execution_count": 403,
      "outputs": []
    },
    {
      "cell_type": "code",
      "metadata": {
        "id": "p4WZy7Dy-3tA",
        "colab": {
          "base_uri": "https://localhost:8080/",
          "height": 195
        },
        "outputId": "089f8c19-3eb7-4a25-c178-4710f874a8f0"
      },
      "source": [
        "subcategorias=pd.DataFrame(test_list, index=['Producto', 'Subcategoria']).T\n",
        "subcategorias.head(5)"
      ],
      "execution_count": 404,
      "outputs": [
        {
          "output_type": "execute_result",
          "data": {
            "text/html": [
              "<div>\n",
              "<style scoped>\n",
              "    .dataframe tbody tr th:only-of-type {\n",
              "        vertical-align: middle;\n",
              "    }\n",
              "\n",
              "    .dataframe tbody tr th {\n",
              "        vertical-align: top;\n",
              "    }\n",
              "\n",
              "    .dataframe thead th {\n",
              "        text-align: right;\n",
              "    }\n",
              "</style>\n",
              "<table border=\"1\" class=\"dataframe\">\n",
              "  <thead>\n",
              "    <tr style=\"text-align: right;\">\n",
              "      <th></th>\n",
              "      <th>Producto</th>\n",
              "      <th>Subcategoria</th>\n",
              "    </tr>\n",
              "  </thead>\n",
              "  <tbody>\n",
              "    <tr>\n",
              "      <th>0</th>\n",
              "      <td>vino</td>\n",
              "      <td>Vino</td>\n",
              "    </tr>\n",
              "    <tr>\n",
              "      <th>1</th>\n",
              "      <td>queso</td>\n",
              "      <td>Quesos</td>\n",
              "    </tr>\n",
              "    <tr>\n",
              "      <th>2</th>\n",
              "      <td>jugo</td>\n",
              "      <td>Jugos</td>\n",
              "    </tr>\n",
              "    <tr>\n",
              "      <th>3</th>\n",
              "      <td>cerveza</td>\n",
              "      <td>Cervezas</td>\n",
              "    </tr>\n",
              "    <tr>\n",
              "      <th>4</th>\n",
              "      <td>agua</td>\n",
              "      <td>Aguas</td>\n",
              "    </tr>\n",
              "  </tbody>\n",
              "</table>\n",
              "</div>"
            ],
            "text/plain": [
              "  Producto Subcategoria\n",
              "0     vino         Vino\n",
              "1    queso       Quesos\n",
              "2     jugo        Jugos\n",
              "3  cerveza     Cervezas\n",
              "4     agua        Aguas"
            ]
          },
          "metadata": {
            "tags": []
          },
          "execution_count": 404
        }
      ]
    },
    {
      "cell_type": "code",
      "metadata": {
        "id": "Nsdw-wEqG59h",
        "colab": {
          "base_uri": "https://localhost:8080/",
          "height": 568
        },
        "outputId": "8089a47d-62ac-4fbe-f32e-8f4a417451ec"
      },
      "source": [
        "final = pd.merge(data3,\n",
        "                 subcategorias,\n",
        "                 on=['Producto'])\n",
        "final.head(5)"
      ],
      "execution_count": 405,
      "outputs": [
        {
          "output_type": "execute_result",
          "data": {
            "text/html": [
              "<div>\n",
              "<style scoped>\n",
              "    .dataframe tbody tr th:only-of-type {\n",
              "        vertical-align: middle;\n",
              "    }\n",
              "\n",
              "    .dataframe tbody tr th {\n",
              "        vertical-align: top;\n",
              "    }\n",
              "\n",
              "    .dataframe thead th {\n",
              "        text-align: right;\n",
              "    }\n",
              "</style>\n",
              "<table border=\"1\" class=\"dataframe\">\n",
              "  <thead>\n",
              "    <tr style=\"text-align: right;\">\n",
              "      <th></th>\n",
              "      <th>name</th>\n",
              "      <th>description</th>\n",
              "      <th>maker</th>\n",
              "      <th>trademark</th>\n",
              "      <th>name_limp</th>\n",
              "      <th>tokens</th>\n",
              "      <th>tokenized_sents</th>\n",
              "      <th>Producto</th>\n",
              "      <th>dos</th>\n",
              "      <th>tres</th>\n",
              "      <th>3</th>\n",
              "      <th>4</th>\n",
              "      <th>5</th>\n",
              "      <th>6</th>\n",
              "      <th>7</th>\n",
              "      <th>8</th>\n",
              "      <th>Producto2</th>\n",
              "      <th>Subcategoria</th>\n",
              "    </tr>\n",
              "  </thead>\n",
              "  <tbody>\n",
              "    <tr>\n",
              "      <th>0</th>\n",
              "      <td>Queso Sancor Gouda 280 Gr</td>\n",
              "      <td>Queso Sancor Gouda 280 Gr</td>\n",
              "      <td>NaN</td>\n",
              "      <td>Sancor</td>\n",
              "      <td>queso sancor gouda  gr</td>\n",
              "      <td>queso sancor gouda gr</td>\n",
              "      <td>[queso, sancor, gouda, gr]</td>\n",
              "      <td>queso</td>\n",
              "      <td>sancor</td>\n",
              "      <td>gouda</td>\n",
              "      <td>gr</td>\n",
              "      <td>None</td>\n",
              "      <td>None</td>\n",
              "      <td>None</td>\n",
              "      <td>None</td>\n",
              "      <td>None</td>\n",
              "      <td>queso sancor</td>\n",
              "      <td>Quesos</td>\n",
              "    </tr>\n",
              "    <tr>\n",
              "      <th>1</th>\n",
              "      <td>Queso Reggianito La Paulina Trozado Paquete 1 Kg</td>\n",
              "      <td>Queso Reggianito La Paulina Trozado Paquete 1 Kg</td>\n",
              "      <td>NaN</td>\n",
              "      <td>La Paulina</td>\n",
              "      <td>queso reggianito la paulina trozado paquete  kg</td>\n",
              "      <td>queso reggianito paulina trozado paquete kg</td>\n",
              "      <td>[queso, reggianito, paulina, trozado, paquete,...</td>\n",
              "      <td>queso</td>\n",
              "      <td>reggianito</td>\n",
              "      <td>paulina</td>\n",
              "      <td>trozado</td>\n",
              "      <td>paquete</td>\n",
              "      <td>kg</td>\n",
              "      <td>None</td>\n",
              "      <td>None</td>\n",
              "      <td>None</td>\n",
              "      <td>queso reggianito</td>\n",
              "      <td>Quesos</td>\n",
              "    </tr>\n",
              "    <tr>\n",
              "      <th>2</th>\n",
              "      <td>Queso Mozzarella Verónica Trozado 1 Kg</td>\n",
              "      <td>Queso Mozzarella Verónica Trozado 1 Kg</td>\n",
              "      <td>Verónica</td>\n",
              "      <td>Verónica</td>\n",
              "      <td>queso mozzarella verónica trozado  kg</td>\n",
              "      <td>queso mozzarella verónica trozado kg</td>\n",
              "      <td>[queso, mozzarella, verónica, trozado, kg]</td>\n",
              "      <td>queso</td>\n",
              "      <td>mozzarella</td>\n",
              "      <td>verónica</td>\n",
              "      <td>trozado</td>\n",
              "      <td>kg</td>\n",
              "      <td>None</td>\n",
              "      <td>None</td>\n",
              "      <td>None</td>\n",
              "      <td>None</td>\n",
              "      <td>queso mozzarella</td>\n",
              "      <td>Quesos</td>\n",
              "    </tr>\n",
              "    <tr>\n",
              "      <th>3</th>\n",
              "      <td>Queso Untable Finlandia Light Balance La Seren...</td>\n",
              "      <td>Queso Untable Finlandia Light Balance La Seren...</td>\n",
              "      <td>NaN</td>\n",
              "      <td>Finlandia</td>\n",
              "      <td>queso untable finlandia light balance la seren...</td>\n",
              "      <td>queso untable finlandia light balance serenisi...</td>\n",
              "      <td>[queso, untable, finlandia, light, balance, se...</td>\n",
              "      <td>queso</td>\n",
              "      <td>untable</td>\n",
              "      <td>finlandia</td>\n",
              "      <td>light</td>\n",
              "      <td>balance</td>\n",
              "      <td>serenisima</td>\n",
              "      <td>gr</td>\n",
              "      <td>None</td>\n",
              "      <td>None</td>\n",
              "      <td>queso untable</td>\n",
              "      <td>Quesos</td>\n",
              "    </tr>\n",
              "    <tr>\n",
              "      <th>4</th>\n",
              "      <td>Queso Azul Tremblay X100Gr.</td>\n",
              "      <td>Queso Azul Tremblay X100Gr.</td>\n",
              "      <td>NaN</td>\n",
              "      <td>La Gallega</td>\n",
              "      <td>queso azul tremblay xgr</td>\n",
              "      <td>queso azul tremblay xgr</td>\n",
              "      <td>[queso, azul, tremblay, xgr]</td>\n",
              "      <td>queso</td>\n",
              "      <td>azul</td>\n",
              "      <td>tremblay</td>\n",
              "      <td>xgr</td>\n",
              "      <td>None</td>\n",
              "      <td>None</td>\n",
              "      <td>None</td>\n",
              "      <td>None</td>\n",
              "      <td>None</td>\n",
              "      <td>queso azul</td>\n",
              "      <td>Quesos</td>\n",
              "    </tr>\n",
              "  </tbody>\n",
              "</table>\n",
              "</div>"
            ],
            "text/plain": [
              "                                                name  \\\n",
              "0                          Queso Sancor Gouda 280 Gr   \n",
              "1   Queso Reggianito La Paulina Trozado Paquete 1 Kg   \n",
              "2             Queso Mozzarella Verónica Trozado 1 Kg   \n",
              "3  Queso Untable Finlandia Light Balance La Seren...   \n",
              "4                        Queso Azul Tremblay X100Gr.   \n",
              "\n",
              "                                         description     maker   trademark  \\\n",
              "0                          Queso Sancor Gouda 280 Gr       NaN      Sancor   \n",
              "1   Queso Reggianito La Paulina Trozado Paquete 1 Kg       NaN  La Paulina   \n",
              "2             Queso Mozzarella Verónica Trozado 1 Kg  Verónica    Verónica   \n",
              "3  Queso Untable Finlandia Light Balance La Seren...       NaN   Finlandia   \n",
              "4                        Queso Azul Tremblay X100Gr.       NaN  La Gallega   \n",
              "\n",
              "                                           name_limp  \\\n",
              "0                             queso sancor gouda  gr   \n",
              "1    queso reggianito la paulina trozado paquete  kg   \n",
              "2              queso mozzarella verónica trozado  kg   \n",
              "3  queso untable finlandia light balance la seren...   \n",
              "4                           queso azul tremblay xgr    \n",
              "\n",
              "                                              tokens  \\\n",
              "0                              queso sancor gouda gr   \n",
              "1        queso reggianito paulina trozado paquete kg   \n",
              "2               queso mozzarella verónica trozado kg   \n",
              "3  queso untable finlandia light balance serenisi...   \n",
              "4                            queso azul tremblay xgr   \n",
              "\n",
              "                                     tokenized_sents Producto         dos  \\\n",
              "0                         [queso, sancor, gouda, gr]    queso      sancor   \n",
              "1  [queso, reggianito, paulina, trozado, paquete,...    queso  reggianito   \n",
              "2         [queso, mozzarella, verónica, trozado, kg]    queso  mozzarella   \n",
              "3  [queso, untable, finlandia, light, balance, se...    queso     untable   \n",
              "4                       [queso, azul, tremblay, xgr]    queso        azul   \n",
              "\n",
              "        tres        3        4           5     6     7     8  \\\n",
              "0      gouda       gr     None        None  None  None  None   \n",
              "1    paulina  trozado  paquete          kg  None  None  None   \n",
              "2   verónica  trozado       kg        None  None  None  None   \n",
              "3  finlandia    light  balance  serenisima    gr  None  None   \n",
              "4   tremblay      xgr     None        None  None  None  None   \n",
              "\n",
              "          Producto2 Subcategoria  \n",
              "0      queso sancor       Quesos  \n",
              "1  queso reggianito       Quesos  \n",
              "2  queso mozzarella       Quesos  \n",
              "3     queso untable       Quesos  \n",
              "4        queso azul       Quesos  "
            ]
          },
          "metadata": {
            "tags": []
          },
          "execution_count": 405
        }
      ]
    },
    {
      "cell_type": "code",
      "metadata": {
        "colab": {
          "base_uri": "https://localhost:8080/"
        },
        "id": "kR7CLdnNMxB7",
        "outputId": "5907b634-f5a5-4e72-ce98-f3912d752d1d"
      },
      "source": [
        "final.shape"
      ],
      "execution_count": 406,
      "outputs": [
        {
          "output_type": "execute_result",
          "data": {
            "text/plain": [
              "(852, 18)"
            ]
          },
          "metadata": {
            "tags": []
          },
          "execution_count": 406
        }
      ]
    },
    {
      "cell_type": "markdown",
      "metadata": {
        "id": "82bX4OUuvPeI"
      },
      "source": [
        "Preparamos el dataset para el entrenamiento."
      ]
    },
    {
      "cell_type": "code",
      "metadata": {
        "colab": {
          "base_uri": "https://localhost:8080/",
          "height": 343
        },
        "id": "aDx03iViEVnG",
        "outputId": "41d93bb4-50f6-427b-f804-845f973be894"
      },
      "source": [
        "data_predict = final.loc[:,['Subcategoria', 'Producto2']]\n",
        "data_predict.head(10)"
      ],
      "execution_count": 407,
      "outputs": [
        {
          "output_type": "execute_result",
          "data": {
            "text/html": [
              "<div>\n",
              "<style scoped>\n",
              "    .dataframe tbody tr th:only-of-type {\n",
              "        vertical-align: middle;\n",
              "    }\n",
              "\n",
              "    .dataframe tbody tr th {\n",
              "        vertical-align: top;\n",
              "    }\n",
              "\n",
              "    .dataframe thead th {\n",
              "        text-align: right;\n",
              "    }\n",
              "</style>\n",
              "<table border=\"1\" class=\"dataframe\">\n",
              "  <thead>\n",
              "    <tr style=\"text-align: right;\">\n",
              "      <th></th>\n",
              "      <th>Subcategoria</th>\n",
              "      <th>Producto2</th>\n",
              "    </tr>\n",
              "  </thead>\n",
              "  <tbody>\n",
              "    <tr>\n",
              "      <th>0</th>\n",
              "      <td>Quesos</td>\n",
              "      <td>queso sancor</td>\n",
              "    </tr>\n",
              "    <tr>\n",
              "      <th>1</th>\n",
              "      <td>Quesos</td>\n",
              "      <td>queso reggianito</td>\n",
              "    </tr>\n",
              "    <tr>\n",
              "      <th>2</th>\n",
              "      <td>Quesos</td>\n",
              "      <td>queso mozzarella</td>\n",
              "    </tr>\n",
              "    <tr>\n",
              "      <th>3</th>\n",
              "      <td>Quesos</td>\n",
              "      <td>queso untable</td>\n",
              "    </tr>\n",
              "    <tr>\n",
              "      <th>4</th>\n",
              "      <td>Quesos</td>\n",
              "      <td>queso azul</td>\n",
              "    </tr>\n",
              "    <tr>\n",
              "      <th>5</th>\n",
              "      <td>Quesos</td>\n",
              "      <td>queso provolone</td>\n",
              "    </tr>\n",
              "    <tr>\n",
              "      <th>6</th>\n",
              "      <td>Quesos</td>\n",
              "      <td>queso cremosísimo</td>\n",
              "    </tr>\n",
              "    <tr>\n",
              "      <th>7</th>\n",
              "      <td>Quesos</td>\n",
              "      <td>queso fundido</td>\n",
              "    </tr>\n",
              "    <tr>\n",
              "      <th>8</th>\n",
              "      <td>Quesos</td>\n",
              "      <td>queso untable</td>\n",
              "    </tr>\n",
              "    <tr>\n",
              "      <th>9</th>\n",
              "      <td>Quesos</td>\n",
              "      <td>queso azul</td>\n",
              "    </tr>\n",
              "  </tbody>\n",
              "</table>\n",
              "</div>"
            ],
            "text/plain": [
              "  Subcategoria          Producto2\n",
              "0       Quesos       queso sancor\n",
              "1       Quesos   queso reggianito\n",
              "2       Quesos   queso mozzarella\n",
              "3       Quesos      queso untable\n",
              "4       Quesos         queso azul\n",
              "5       Quesos    queso provolone\n",
              "6       Quesos  queso cremosísimo\n",
              "7       Quesos      queso fundido\n",
              "8       Quesos      queso untable\n",
              "9       Quesos         queso azul"
            ]
          },
          "metadata": {
            "tags": []
          },
          "execution_count": 407
        }
      ]
    },
    {
      "cell_type": "markdown",
      "metadata": {
        "id": "hba8vO57qaJv"
      },
      "source": [
        "Agregaremos una columna que codifique el producto como un número entero porque las variables categóricas a menudo se representan mejor con números enteros que con cadenas"
      ]
    },
    {
      "cell_type": "code",
      "metadata": {
        "colab": {
          "base_uri": "https://localhost:8080/",
          "height": 106
        },
        "id": "bVoMW7apEzkd",
        "outputId": "0ed2795e-1aa4-41fd-bee9-e10ae694666a"
      },
      "source": [
        "data_predict['category_id'] = data_predict['Subcategoria'].factorize()[0]\n",
        "from io import StringIO\n",
        "category_id_df = data_predict[['Subcategoria', 'category_id']].drop_duplicates().sort_values('category_id')\n",
        "category_to_id = dict(category_id_df.values)\n",
        "id_to_category = dict(category_id_df[['category_id', 'Subcategoria']].values)\n",
        "data_predict.head(2)"
      ],
      "execution_count": 408,
      "outputs": [
        {
          "output_type": "execute_result",
          "data": {
            "text/html": [
              "<div>\n",
              "<style scoped>\n",
              "    .dataframe tbody tr th:only-of-type {\n",
              "        vertical-align: middle;\n",
              "    }\n",
              "\n",
              "    .dataframe tbody tr th {\n",
              "        vertical-align: top;\n",
              "    }\n",
              "\n",
              "    .dataframe thead th {\n",
              "        text-align: right;\n",
              "    }\n",
              "</style>\n",
              "<table border=\"1\" class=\"dataframe\">\n",
              "  <thead>\n",
              "    <tr style=\"text-align: right;\">\n",
              "      <th></th>\n",
              "      <th>Subcategoria</th>\n",
              "      <th>Producto2</th>\n",
              "      <th>category_id</th>\n",
              "    </tr>\n",
              "  </thead>\n",
              "  <tbody>\n",
              "    <tr>\n",
              "      <th>0</th>\n",
              "      <td>Quesos</td>\n",
              "      <td>queso sancor</td>\n",
              "      <td>0</td>\n",
              "    </tr>\n",
              "    <tr>\n",
              "      <th>1</th>\n",
              "      <td>Quesos</td>\n",
              "      <td>queso reggianito</td>\n",
              "      <td>0</td>\n",
              "    </tr>\n",
              "  </tbody>\n",
              "</table>\n",
              "</div>"
            ],
            "text/plain": [
              "  Subcategoria         Producto2  category_id\n",
              "0       Quesos      queso sancor            0\n",
              "1       Quesos  queso reggianito            0"
            ]
          },
          "metadata": {
            "tags": []
          },
          "execution_count": 408
        }
      ]
    },
    {
      "cell_type": "code",
      "metadata": {
        "colab": {
          "base_uri": "https://localhost:8080/"
        },
        "id": "ZAkMlzx_-8XS",
        "outputId": "59b423fc-6c32-4748-9c49-5f8f16af4ac6"
      },
      "source": [
        "data_predict['Producto2']=data_predict['Producto2'].astype(str)\n",
        "data_predict['Subcategoria']=data_predict['Subcategoria'].astype(str)\n",
        "data_predict.dtypes"
      ],
      "execution_count": 409,
      "outputs": [
        {
          "output_type": "execute_result",
          "data": {
            "text/plain": [
              "Subcategoria    object\n",
              "Producto2       object\n",
              "category_id      int64\n",
              "dtype: object"
            ]
          },
          "metadata": {
            "tags": []
          },
          "execution_count": 409
        }
      ]
    },
    {
      "cell_type": "markdown",
      "metadata": {
        "id": "EDRaDlKwh3e5"
      },
      "source": [
        "Observamos la distribución de las Subcategorías en el dataset de entrenamiento.\n"
      ]
    },
    {
      "cell_type": "code",
      "metadata": {
        "colab": {
          "base_uri": "https://localhost:8080/",
          "height": 494
        },
        "id": "sMni5rKOFRzG",
        "outputId": "a824ad5c-7104-4d67-f251-f1b26d425f3d"
      },
      "source": [
        "import matplotlib.pyplot as plt\n",
        "fig = plt.figure(figsize=(8,6))\n",
        "data_predict.groupby('Subcategoria').Producto2.count().plot.bar(ylim=0)\n",
        "plt.show()"
      ],
      "execution_count": 410,
      "outputs": [
        {
          "output_type": "display_data",
          "data": {
            "image/png": "[encoded data removed]",
            "text/plain": [
              "<Figure size 576x432 with 1 Axes>"
            ]
          },
          "metadata": {
            "tags": [],
            "needs_background": "light"
          }
        }
      ]
    },
    {
      "cell_type": "markdown",
      "metadata": {
        "id": "AiWYkEvaUnCv"
      },
      "source": [
        "# BIGRAMAS Y ENTRENAMIENTO"
      ]
    },
    {
      "cell_type": "markdown",
      "metadata": {
        "id": "F4Q7bianbn_O"
      },
      "source": [
        "A continuación vamos a analizar descripciones vs subcategoría, cada una de las descripciones **X** está representada por **Y** características, que representan la puntuación tf-idf para diferentes unigramas y bigramas."
      ]
    },
    {
      "cell_type": "code",
      "metadata": {
        "colab": {
          "base_uri": "https://localhost:8080/"
        },
        "id": "hPAu1PCFFeKt",
        "outputId": "1c88dd31-3ffc-4b85-ef9e-4f27390d9615"
      },
      "source": [
        "from sklearn.feature_extraction.text import TfidfVectorizer\n",
        "\n",
        "tfidf = TfidfVectorizer(sublinear_tf=True, min_df=5, norm='l2', encoding='utf-8', ngram_range=(1, 2))\n",
        "\n",
        "features = tfidf.fit_transform(data_predict.Producto2).toarray()\n",
        "labels = data_predict.category_id\n",
        "features.shape"
      ],
      "execution_count": 411,
      "outputs": [
        {
          "output_type": "execute_result",
          "data": {
            "text/plain": [
              "(852, 99)"
            ]
          },
          "metadata": {
            "tags": []
          },
          "execution_count": 411
        }
      ]
    },
    {
      "cell_type": "markdown",
      "metadata": {
        "id": "Wow7pWSqiRB7"
      },
      "source": [
        "A continuación analizamos mediante unigramas y bigramas la relación de las subcategorías vs la descripciones de los productos. \n"
      ]
    },
    {
      "cell_type": "code",
      "metadata": {
        "colab": {
          "base_uri": "https://localhost:8080/"
        },
        "id": "DO1rCq2fF2Lz",
        "outputId": "2949247a-9029-42fd-e8a4-ca8ae80abe88"
      },
      "source": [
        "from sklearn.feature_selection import chi2\n",
        "import numpy as np\n",
        "N = 2\n",
        "for Product, category_id in sorted(category_to_id.items()):\n",
        "  features_chi2 = chi2(features, labels == category_id)\n",
        "  indices = np.argsort(features_chi2[0])\n",
        "  feature_names = np.array(tfidf.get_feature_names())[indices]\n",
        "  unigrams = [v for v in feature_names if len(v.split(' ')) == 1]\n",
        "  bigrams = [v for v in feature_names if len(v.split(' ')) == 2]\n",
        "  print(\"# '{}':\".format(Product))\n",
        "  print(\"  . Most correlated unigrams:\\n       . {}\".format('\\n       . '.join(unigrams[-N:])))\n",
        "  print(\"  . Most correlated bigrams:\\n       . {}\".format('\\n       . '.join(bigrams[-N:])))"
      ],
      "execution_count": 412,
      "outputs": [
        {
          "output_type": "stream",
          "text": [
            "# 'Aceites y Vinagres':\n",
            "  . Most correlated unigrams:\n",
            "       . oliva\n",
            "       . aceite\n",
            "  . Most correlated bigrams:\n",
            "       . aceto balsámico\n",
            "       . aceite oliva\n",
            "# 'Aderezos':\n",
            "  . Most correlated unigrams:\n",
            "       . mayonesa\n",
            "       . salsa\n",
            "  . Most correlated bigrams:\n",
            "       . vino blanco\n",
            "       . vino tinto\n",
            "# 'Aguas':\n",
            "  . Most correlated unigrams:\n",
            "       . saborizada\n",
            "       . agua\n",
            "  . Most correlated bigrams:\n",
            "       . agua mineral\n",
            "       . agua saborizada\n",
            "# 'Cervezas':\n",
            "  . Most correlated unigrams:\n",
            "       . quilmes\n",
            "       . cerveza\n",
            "  . Most correlated bigrams:\n",
            "       . vino tinto\n",
            "       . cerveza heineken\n",
            "# 'Champagnes':\n",
            "  . Most correlated unigrams:\n",
            "       . espumante\n",
            "       . champaña\n",
            "  . Most correlated bigrams:\n",
            "       . vino tinto\n",
            "       . champaña chandon\n",
            "# 'Fiambres':\n",
            "  . Most correlated unigrams:\n",
            "       . cocido\n",
            "       . jamón\n",
            "  . Most correlated bigrams:\n",
            "       . vino tinto\n",
            "       . jamón cocido\n",
            "# 'Golosinas y Chocolates':\n",
            "  . Most correlated unigrams:\n",
            "       . caramelos\n",
            "       . chocolate\n",
            "  . Most correlated bigrams:\n",
            "       . gomitas mogul\n",
            "       . chocolate cofler\n",
            "# 'Jugos':\n",
            "  . Most correlated unigrams:\n",
            "       . cepita\n",
            "       . jugo\n",
            "  . Most correlated bigrams:\n",
            "       . jugo bc\n",
            "       . jugo cepita\n",
            "# 'Leches':\n",
            "  . Most correlated unigrams:\n",
            "       . entera\n",
            "       . leche\n",
            "  . Most correlated bigrams:\n",
            "       . leche chocolatada\n",
            "       . leche entera\n",
            "# 'Panificados':\n",
            "  . Most correlated unigrams:\n",
            "       . rallado\n",
            "       . pan\n",
            "  . Most correlated bigrams:\n",
            "       . vino blanco\n",
            "       . vino tinto\n",
            "# 'Quesos':\n",
            "  . Most correlated unigrams:\n",
            "       . crema\n",
            "       . queso\n",
            "  . Most correlated bigrams:\n",
            "       . queso crema\n",
            "       . queso rallado\n",
            "# 'Salchichas':\n",
            "  . Most correlated unigrams:\n",
            "       . vino\n",
            "       . salchichas\n",
            "  . Most correlated bigrams:\n",
            "       . vino blanco\n",
            "       . vino tinto\n",
            "# 'Vino':\n",
            "  . Most correlated unigrams:\n",
            "       . tinto\n",
            "       . vino\n",
            "  . Most correlated bigrams:\n",
            "       . vino blanco\n",
            "       . vino tinto\n",
            "# 'Whiskies':\n",
            "  . Most correlated unigrams:\n",
            "       . vino\n",
            "       . whisky\n",
            "  . Most correlated bigrams:\n",
            "       . vino blanco\n",
            "       . vino tinto\n",
            "# 'Yogures':\n",
            "  . Most correlated unigrams:\n",
            "       . entero\n",
            "       . yogur\n",
            "  . Most correlated bigrams:\n",
            "       . yogurt entero\n",
            "       . yogur entero\n"
          ],
          "name": "stdout"
        }
      ]
    },
    {
      "cell_type": "markdown",
      "metadata": {
        "id": "bP0byA7kipfS"
      },
      "source": [
        "Aplicamos el modelo predictivo, para que aprenda de las subcategorías ya identificadas anteriormente."
      ]
    },
    {
      "cell_type": "code",
      "metadata": {
        "id": "Ctwmlw0kH0EK"
      },
      "source": [
        "from sklearn.model_selection import train_test_split\n",
        "from sklearn.feature_extraction.text import CountVectorizer\n",
        "from sklearn.feature_extraction.text import TfidfTransformer\n",
        "from sklearn.naive_bayes import MultinomialNB\n",
        "from sklearn.svm import LinearSVC\n",
        "\n",
        "X_train, X_test, y_train, y_test = train_test_split(data_predict['Producto2'], data_predict['Subcategoria'], test_size = 0.1, random_state = 123)\n",
        "count_vect = CountVectorizer()\n",
        "X_train_counts = count_vect.fit_transform(X_train)\n",
        "tfidf_transformer = TfidfTransformer()\n",
        "X_train_tfidf = tfidf_transformer.fit_transform(X_train_counts)\n",
        "\n",
        "#clf = MultinomialNB().fit(X_train_tfidf, y_train)\n",
        "clf = LinearSVC().fit(X_train_tfidf, y_train)"
      ],
      "execution_count": 413,
      "outputs": []
    },
    {
      "cell_type": "markdown",
      "metadata": {
        "id": "MHp9iGcGi2cN"
      },
      "source": [
        "Realizamos algunas pruebas para ver la calidad de las predicciónes."
      ]
    },
    {
      "cell_type": "code",
      "metadata": {
        "id": "WFYf8pUGKvLN",
        "colab": {
          "base_uri": "https://localhost:8080/"
        },
        "outputId": "06d594f2-4a4b-4be1-ba7a-8481e19f9ec1"
      },
      "source": [
        "data3['Producto2'].head(5)"
      ],
      "execution_count": 414,
      "outputs": [
        {
          "output_type": "execute_result",
          "data": {
            "text/plain": [
              "0        queso sancor\n",
              "1          jugo limón\n",
              "2    turrón georgalos\n",
              "3      ketchup danica\n",
              "4    queso reggianito\n",
              "Name: Producto2, dtype: object"
            ]
          },
          "metadata": {
            "tags": []
          },
          "execution_count": 414
        }
      ]
    },
    {
      "cell_type": "markdown",
      "metadata": {
        "id": "oN1pok0SjWAF"
      },
      "source": [
        "Al eliminar parte de las descripción la predicción funciona bastante bien"
      ]
    },
    {
      "cell_type": "code",
      "metadata": {
        "colab": {
          "base_uri": "https://localhost:8080/"
        },
        "id": "9x-6pTRuIK8L",
        "outputId": "a582599b-29a9-40c5-fda9-ad4acb7870ff"
      },
      "source": [
        "print(clf.predict(count_vect.transform([\"turr georgalos\"])))"
      ],
      "execution_count": 415,
      "outputs": [
        {
          "output_type": "stream",
          "text": [
            "['Golosinas y Chocolates']\n"
          ],
          "name": "stdout"
        }
      ]
    },
    {
      "cell_type": "code",
      "metadata": {
        "colab": {
          "base_uri": "https://localhost:8080/"
        },
        "id": "14UmW66fjsRW",
        "outputId": "7237febb-34cf-4fd7-a0a0-7134c7f5c072"
      },
      "source": [
        "print(clf.predict(count_vect.transform([\"ketchup da\"])))"
      ],
      "execution_count": 416,
      "outputs": [
        {
          "output_type": "stream",
          "text": [
            "['Aderezos']\n"
          ],
          "name": "stdout"
        }
      ]
    },
    {
      "cell_type": "code",
      "metadata": {
        "colab": {
          "base_uri": "https://localhost:8080/"
        },
        "id": "ljDXvKm8jrXH",
        "outputId": "c42d9675-9807-4022-b93a-2e20b9935aae"
      },
      "source": [
        "print(clf.predict(count_vect.transform([\"queso rego\"])))"
      ],
      "execution_count": 417,
      "outputs": [
        {
          "output_type": "stream",
          "text": [
            "['Quesos']\n"
          ],
          "name": "stdout"
        }
      ]
    },
    {
      "cell_type": "code",
      "metadata": {
        "colab": {
          "base_uri": "https://localhost:8080/"
        },
        "id": "fDtgnEyXjrHw",
        "outputId": "82526893-d8f9-4141-8fbf-63c91b4b0376"
      },
      "source": [
        "print(clf.predict(count_vect.transform([\"limon jugo\"])))"
      ],
      "execution_count": 418,
      "outputs": [
        {
          "output_type": "stream",
          "text": [
            "['Jugos']\n"
          ],
          "name": "stdout"
        }
      ]
    },
    {
      "cell_type": "markdown",
      "metadata": {
        "id": "obMPr8TDwFrf"
      },
      "source": [
        "Procedemos a predecir todo el dataset con nombre original **test_challenge.csv** "
      ]
    },
    {
      "cell_type": "code",
      "metadata": {
        "id": "O0jHy9jbB2Yn"
      },
      "source": [
        "predict_data=data3['Producto2'].astype(str)"
      ],
      "execution_count": 419,
      "outputs": []
    },
    {
      "cell_type": "code",
      "metadata": {
        "id": "1pyF-_rbBgNG",
        "colab": {
          "base_uri": "https://localhost:8080/",
          "height": 343
        },
        "outputId": "80f6a690-4449-445e-854e-9297a7c0708b"
      },
      "source": [
        "prediccion=pd.DataFrame(clf.predict(count_vect.transform(predict_data)))\n",
        "prediccion.rename({0: \"Subcategoría\"},  \n",
        "          axis = \"columns\", inplace = True)\n",
        "prediccion.head(10)\n"
      ],
      "execution_count": 420,
      "outputs": [
        {
          "output_type": "execute_result",
          "data": {
            "text/html": [
              "<div>\n",
              "<style scoped>\n",
              "    .dataframe tbody tr th:only-of-type {\n",
              "        vertical-align: middle;\n",
              "    }\n",
              "\n",
              "    .dataframe tbody tr th {\n",
              "        vertical-align: top;\n",
              "    }\n",
              "\n",
              "    .dataframe thead th {\n",
              "        text-align: right;\n",
              "    }\n",
              "</style>\n",
              "<table border=\"1\" class=\"dataframe\">\n",
              "  <thead>\n",
              "    <tr style=\"text-align: right;\">\n",
              "      <th></th>\n",
              "      <th>Subcategoría</th>\n",
              "    </tr>\n",
              "  </thead>\n",
              "  <tbody>\n",
              "    <tr>\n",
              "      <th>0</th>\n",
              "      <td>Quesos</td>\n",
              "    </tr>\n",
              "    <tr>\n",
              "      <th>1</th>\n",
              "      <td>Jugos</td>\n",
              "    </tr>\n",
              "    <tr>\n",
              "      <th>2</th>\n",
              "      <td>Golosinas y Chocolates</td>\n",
              "    </tr>\n",
              "    <tr>\n",
              "      <th>3</th>\n",
              "      <td>Aderezos</td>\n",
              "    </tr>\n",
              "    <tr>\n",
              "      <th>4</th>\n",
              "      <td>Quesos</td>\n",
              "    </tr>\n",
              "    <tr>\n",
              "      <th>5</th>\n",
              "      <td>Golosinas y Chocolates</td>\n",
              "    </tr>\n",
              "    <tr>\n",
              "      <th>6</th>\n",
              "      <td>Aderezos</td>\n",
              "    </tr>\n",
              "    <tr>\n",
              "      <th>7</th>\n",
              "      <td>Vino</td>\n",
              "    </tr>\n",
              "    <tr>\n",
              "      <th>8</th>\n",
              "      <td>Leches</td>\n",
              "    </tr>\n",
              "    <tr>\n",
              "      <th>9</th>\n",
              "      <td>Vino</td>\n",
              "    </tr>\n",
              "  </tbody>\n",
              "</table>\n",
              "</div>"
            ],
            "text/plain": [
              "             Subcategoría\n",
              "0                  Quesos\n",
              "1                   Jugos\n",
              "2  Golosinas y Chocolates\n",
              "3                Aderezos\n",
              "4                  Quesos\n",
              "5  Golosinas y Chocolates\n",
              "6                Aderezos\n",
              "7                    Vino\n",
              "8                  Leches\n",
              "9                    Vino"
            ]
          },
          "metadata": {
            "tags": []
          },
          "execution_count": 420
        }
      ]
    },
    {
      "cell_type": "markdown",
      "metadata": {
        "id": "2jpwJkDhoM45"
      },
      "source": [
        "Organizamos los datasets y guardamos el resultado con nombre **\"test_challenge_Predict.csv\"** para poder utilizarlo, el mismo se va a guardar en donde tengamos configurado nuestro entorno."
      ]
    },
    {
      "cell_type": "code",
      "metadata": {
        "colab": {
          "base_uri": "https://localhost:8080/",
          "height": 1000
        },
        "id": "43rQz31oBgNG",
        "outputId": "2a6c2827-7875-4271-a9f0-435d7c57e2da"
      },
      "source": [
        "base_final=pd.concat([data3.loc[:,['name','description','maker','trademark','Producto2']].reset_index(drop=True),\n",
        "                      prediccion.reset_index(drop=True)], axis=1)\n",
        "\n",
        "base_final.to_csv('test_challenge_Predict.csv')\n",
        "base_final.head(40)"
      ],
      "execution_count": 421,
      "outputs": [
        {
          "output_type": "execute_result",
          "data": {
            "text/html": [
              "<div>\n",
              "<style scoped>\n",
              "    .dataframe tbody tr th:only-of-type {\n",
              "        vertical-align: middle;\n",
              "    }\n",
              "\n",
              "    .dataframe tbody tr th {\n",
              "        vertical-align: top;\n",
              "    }\n",
              "\n",
              "    .dataframe thead th {\n",
              "        text-align: right;\n",
              "    }\n",
              "</style>\n",
              "<table border=\"1\" class=\"dataframe\">\n",
              "  <thead>\n",
              "    <tr style=\"text-align: right;\">\n",
              "      <th></th>\n",
              "      <th>name</th>\n",
              "      <th>description</th>\n",
              "      <th>maker</th>\n",
              "      <th>trademark</th>\n",
              "      <th>Producto2</th>\n",
              "      <th>Subcategoría</th>\n",
              "    </tr>\n",
              "  </thead>\n",
              "  <tbody>\n",
              "    <tr>\n",
              "      <th>0</th>\n",
              "      <td>Queso Sancor Gouda 280 Gr</td>\n",
              "      <td>Queso Sancor Gouda 280 Gr</td>\n",
              "      <td>NaN</td>\n",
              "      <td>Sancor</td>\n",
              "      <td>queso sancor</td>\n",
              "      <td>Quesos</td>\n",
              "    </tr>\n",
              "    <tr>\n",
              "      <th>1</th>\n",
              "      <td>Jugo De Limón Delemon 1 L</td>\n",
              "      <td>Jugo De Limón Delemon 1 L</td>\n",
              "      <td>NaN</td>\n",
              "      <td>Delemon</td>\n",
              "      <td>jugo limón</td>\n",
              "      <td>Jugos</td>\n",
              "    </tr>\n",
              "    <tr>\n",
              "      <th>2</th>\n",
              "      <td>Turrón Georgalos De Yema</td>\n",
              "      <td>Turrón Georgalos De Yema</td>\n",
              "      <td>NaN</td>\n",
              "      <td>Georgalos</td>\n",
              "      <td>turrón georgalos</td>\n",
              "      <td>Golosinas y Chocolates</td>\n",
              "    </tr>\n",
              "    <tr>\n",
              "      <th>3</th>\n",
              "      <td>Ketchup Danica X220Gr.Dp</td>\n",
              "      <td>Ketchup Danica X220Gr.Dp</td>\n",
              "      <td>NaN</td>\n",
              "      <td>La Gallega</td>\n",
              "      <td>ketchup danica</td>\n",
              "      <td>Aderezos</td>\n",
              "    </tr>\n",
              "    <tr>\n",
              "      <th>4</th>\n",
              "      <td>Queso Reggianito La Paulina Trozado Paquete 1 Kg</td>\n",
              "      <td>Queso Reggianito La Paulina Trozado Paquete 1 Kg</td>\n",
              "      <td>NaN</td>\n",
              "      <td>La Paulina</td>\n",
              "      <td>queso reggianito</td>\n",
              "      <td>Quesos</td>\n",
              "    </tr>\n",
              "    <tr>\n",
              "      <th>5</th>\n",
              "      <td>Caramelos Pico Dulce 150 Gr</td>\n",
              "      <td>Caramelos Pico Dulce 150 Gr</td>\n",
              "      <td>NaN</td>\n",
              "      <td>Lheritier</td>\n",
              "      <td>caramelos pico</td>\n",
              "      <td>Golosinas y Chocolates</td>\n",
              "    </tr>\n",
              "    <tr>\n",
              "      <th>6</th>\n",
              "      <td>Chimichurri Hellmann'S 355 Gr</td>\n",
              "      <td>Chimichurri Hellmann'S 355 Gr</td>\n",
              "      <td>NaN</td>\n",
              "      <td>Hellmann´S</td>\n",
              "      <td>chimichurri hellmann</td>\n",
              "      <td>Aderezos</td>\n",
              "    </tr>\n",
              "    <tr>\n",
              "      <th>7</th>\n",
              "      <td>Vino Fino Ampakama Cabernet Sauvignon</td>\n",
              "      <td>Vino Tinto Fino Ampakama Intenso Cabernet Sauv...</td>\n",
              "      <td>NaN</td>\n",
              "      <td>Ampakama</td>\n",
              "      <td>vino fino</td>\n",
              "      <td>Vino</td>\n",
              "    </tr>\n",
              "    <tr>\n",
              "      <th>8</th>\n",
              "      <td>Leche Entera Vit A C D B9 La Serenisima 1lt</td>\n",
              "      <td>LECHE ENTERA LA SERENISIMA ULT.CA.NAT. ACDyB9</td>\n",
              "      <td>gallega</td>\n",
              "      <td>La Serenisima</td>\n",
              "      <td>leche entera</td>\n",
              "      <td>Leches</td>\n",
              "    </tr>\n",
              "    <tr>\n",
              "      <th>9</th>\n",
              "      <td>Vino Blanco Frizze Evolution Ultra Blue 750 Cc</td>\n",
              "      <td>Vino Blanco Frizze Evolution Ultra Blue 750 Cc</td>\n",
              "      <td>Frizze</td>\n",
              "      <td>Frizze</td>\n",
              "      <td>vino blanco</td>\n",
              "      <td>Vino</td>\n",
              "    </tr>\n",
              "    <tr>\n",
              "      <th>10</th>\n",
              "      <td>Vino Blanco Santa Ana Selección 700 Cc</td>\n",
              "      <td>Vino Blanco Santa Ana Selección 700 Cc</td>\n",
              "      <td>NaN</td>\n",
              "      <td>Santa Ana</td>\n",
              "      <td>vino blanco</td>\n",
              "      <td>Vino</td>\n",
              "    </tr>\n",
              "    <tr>\n",
              "      <th>11</th>\n",
              "      <td>Yogur Bebible Vainilla Yogurisimo 185gr</td>\n",
              "      <td>YOGURISIMO GO BOTELLA X185GR. VAINILLA</td>\n",
              "      <td>gallega</td>\n",
              "      <td>Yogurisimo</td>\n",
              "      <td>yogur bebible</td>\n",
              "      <td>Yogures</td>\n",
              "    </tr>\n",
              "    <tr>\n",
              "      <th>12</th>\n",
              "      <td>Chupetin Crazy Pop Frutilla X 12 Gr</td>\n",
              "      <td>Chupetin Crazy Pop Frutilla X 12 Gr</td>\n",
              "      <td>NaN</td>\n",
              "      <td>Crazy</td>\n",
              "      <td>chupetin crazy</td>\n",
              "      <td>Golosinas y Chocolates</td>\n",
              "    </tr>\n",
              "    <tr>\n",
              "      <th>13</th>\n",
              "      <td>Salchichas Granja Iris De Viena 375 Gr</td>\n",
              "      <td>Salchichas Granja Iris De Viena 375 Gr</td>\n",
              "      <td>NaN</td>\n",
              "      <td>Granja Iris</td>\n",
              "      <td>salchichas granja</td>\n",
              "      <td>Salchichas</td>\n",
              "    </tr>\n",
              "    <tr>\n",
              "      <th>14</th>\n",
              "      <td>Agua Saborizada Pomelo Aquarius 1,5 Lt</td>\n",
              "      <td>Aquarius Cepita Sabor Pomelo x 1.5 lts.</td>\n",
              "      <td>The Coca-Cola Company</td>\n",
              "      <td>Aquarius</td>\n",
              "      <td>agua saborizada</td>\n",
              "      <td>Aguas</td>\n",
              "    </tr>\n",
              "    <tr>\n",
              "      <th>15</th>\n",
              "      <td>Pan Flautita 1U</td>\n",
              "      <td>Pan Flautita 1U</td>\n",
              "      <td>NaN</td>\n",
              "      <td>NaN</td>\n",
              "      <td>pan flautita</td>\n",
              "      <td>Panificados</td>\n",
              "    </tr>\n",
              "    <tr>\n",
              "      <th>16</th>\n",
              "      <td>Queso Mozzarella Verónica Trozado 1 Kg</td>\n",
              "      <td>Queso Mozzarella Verónica Trozado 1 Kg</td>\n",
              "      <td>Verónica</td>\n",
              "      <td>Verónica</td>\n",
              "      <td>queso mozzarella</td>\n",
              "      <td>Quesos</td>\n",
              "    </tr>\n",
              "    <tr>\n",
              "      <th>17</th>\n",
              "      <td>Yogur Colchon Duraz C/Manz Ser 80gr</td>\n",
              "      <td>YOGUR SER X180GR.C/MANZANA-DURAZNO</td>\n",
              "      <td>gallega</td>\n",
              "      <td>Ser</td>\n",
              "      <td>yogur colchon</td>\n",
              "      <td>Yogures</td>\n",
              "    </tr>\n",
              "    <tr>\n",
              "      <th>18</th>\n",
              "      <td>Aceto Balsámico Dos Anclas 250 Ml</td>\n",
              "      <td>Aceto Balsámico Dos Anclas 250 Ml</td>\n",
              "      <td>NaN</td>\n",
              "      <td>Dos Anclas</td>\n",
              "      <td>aceto balsámico</td>\n",
              "      <td>Aceites y Vinagres</td>\n",
              "    </tr>\n",
              "    <tr>\n",
              "      <th>19</th>\n",
              "      <td>Vino Navarro Correas Malbec</td>\n",
              "      <td>Vino Navarro Correas Malbec</td>\n",
              "      <td>NaN</td>\n",
              "      <td>Navarro Correas</td>\n",
              "      <td>vino navarro</td>\n",
              "      <td>Vino</td>\n",
              "    </tr>\n",
              "    <tr>\n",
              "      <th>20</th>\n",
              "      <td>Queso Untable Finlandia Light Balance La Seren...</td>\n",
              "      <td>Queso Untable Finlandia Light Balance La Seren...</td>\n",
              "      <td>NaN</td>\n",
              "      <td>Finlandia</td>\n",
              "      <td>queso untable</td>\n",
              "      <td>Quesos</td>\n",
              "    </tr>\n",
              "    <tr>\n",
              "      <th>21</th>\n",
              "      <td>Vino Resero Tinto Tetra Brick X 1 Lt</td>\n",
              "      <td>Vino Resero Tinto Tetra Brick X 1 Lt</td>\n",
              "      <td>NaN</td>\n",
              "      <td>Resero</td>\n",
              "      <td>vino resero</td>\n",
              "      <td>Vino</td>\n",
              "    </tr>\n",
              "    <tr>\n",
              "      <th>22</th>\n",
              "      <td>Agua Saborizada Villa Del Sur Levite Naranja 5...</td>\n",
              "      <td>Agua Saborizada Villa Del Sur Levite Naranja 5...</td>\n",
              "      <td>Danone</td>\n",
              "      <td>Villa Del Sur</td>\n",
              "      <td>agua saborizada</td>\n",
              "      <td>Aguas</td>\n",
              "    </tr>\n",
              "    <tr>\n",
              "      <th>23</th>\n",
              "      <td>Chicle Top Line Xplosive 14 Gr</td>\n",
              "      <td>Chicle Top Line Xplosive 14 Gr</td>\n",
              "      <td>Top Line</td>\n",
              "      <td>Top Line</td>\n",
              "      <td>chicle top</td>\n",
              "      <td>Golosinas y Chocolates</td>\n",
              "    </tr>\n",
              "    <tr>\n",
              "      <th>24</th>\n",
              "      <td>Champaña Ruca Malen Brut</td>\n",
              "      <td>Champaña Ruca Malen Brut</td>\n",
              "      <td>NaN</td>\n",
              "      <td>Ruca Malen</td>\n",
              "      <td>champaña ruca</td>\n",
              "      <td>Champagnes</td>\n",
              "    </tr>\n",
              "    <tr>\n",
              "      <th>25</th>\n",
              "      <td>Vino Tinto Santa Julia Malbec 750 mL</td>\n",
              "      <td>Vino Tinto Santa Julia Malbec 750 mL</td>\n",
              "      <td>Bodega Santa Julia</td>\n",
              "      <td>Santa Julia</td>\n",
              "      <td>vino tinto</td>\n",
              "      <td>Vino</td>\n",
              "    </tr>\n",
              "    <tr>\n",
              "      <th>26</th>\n",
              "      <td>Vino San Huberto Cabernet Sauvignon Crianza Bo...</td>\n",
              "      <td>Vino San Huberto Cabernet Sauvignon Crianza Bo...</td>\n",
              "      <td>NaN</td>\n",
              "      <td>San Huberto</td>\n",
              "      <td>vino san</td>\n",
              "      <td>Vino</td>\n",
              "    </tr>\n",
              "    <tr>\n",
              "      <th>27</th>\n",
              "      <td>ChocolateAfter Eight</td>\n",
              "      <td>ChocolateAfter Eight Nestle x 200 GR</td>\n",
              "      <td>NaN</td>\n",
              "      <td>Nestle</td>\n",
              "      <td>chocolateafter eight</td>\n",
              "      <td>Golosinas y Chocolates</td>\n",
              "    </tr>\n",
              "    <tr>\n",
              "      <th>28</th>\n",
              "      <td>Yogur Entero Yogurisimo - Frutas Y Cereales</td>\n",
              "      <td>Yogur Entero Yogurisimo - Frutas Y Cereales</td>\n",
              "      <td>NaN</td>\n",
              "      <td>Yogurisimo</td>\n",
              "      <td>yogur entero</td>\n",
              "      <td>Yogures</td>\n",
              "    </tr>\n",
              "    <tr>\n",
              "      <th>29</th>\n",
              "      <td>Jugo Cepita de Durazno 1.5 L</td>\n",
              "      <td>Jugo Cepita de Durazno 1.5 L</td>\n",
              "      <td>Del Valle</td>\n",
              "      <td>Cepita</td>\n",
              "      <td>jugo cepita</td>\n",
              "      <td>Jugos</td>\n",
              "    </tr>\n",
              "    <tr>\n",
              "      <th>30</th>\n",
              "      <td>Vino Tinto Benjamín Naturaleza Malbec Bonarda ...</td>\n",
              "      <td>Vino Tinto Benjamín Naturaleza Malbec Bonarda ...</td>\n",
              "      <td>Molinos Río de la Plata</td>\n",
              "      <td>Benjamín</td>\n",
              "      <td>vino tinto</td>\n",
              "      <td>Vino</td>\n",
              "    </tr>\n",
              "    <tr>\n",
              "      <th>31</th>\n",
              "      <td>Aderezo Ketchup Dos Anclas 420 Gr</td>\n",
              "      <td>Aderezo Ketchup Dos Anclas 420 Gr</td>\n",
              "      <td>NaN</td>\n",
              "      <td>Dos Anclas</td>\n",
              "      <td>aderezo ketchup</td>\n",
              "      <td>Aderezos</td>\n",
              "    </tr>\n",
              "    <tr>\n",
              "      <th>32</th>\n",
              "      <td>Agua Villa Del Sur Levité Pomelo 1 L</td>\n",
              "      <td>Agua Villa Del Sur Levité Pomelo 1 L</td>\n",
              "      <td>Danone</td>\n",
              "      <td>Villa Del Sur</td>\n",
              "      <td>agua villa</td>\n",
              "      <td>Aguas</td>\n",
              "    </tr>\n",
              "    <tr>\n",
              "      <th>33</th>\n",
              "      <td>Goma De Mascar Beldent Check Out</td>\n",
              "      <td>Chicles Beldent Infinit Live Mint 26,6 Gr</td>\n",
              "      <td>NaN</td>\n",
              "      <td>Beldent</td>\n",
              "      <td>goma mascar</td>\n",
              "      <td>Golosinas y Chocolates</td>\n",
              "    </tr>\n",
              "    <tr>\n",
              "      <th>34</th>\n",
              "      <td>Queso Azul Tremblay X100Gr.</td>\n",
              "      <td>Queso Azul Tremblay X100Gr.</td>\n",
              "      <td>NaN</td>\n",
              "      <td>La Gallega</td>\n",
              "      <td>queso azul</td>\n",
              "      <td>Quesos</td>\n",
              "    </tr>\n",
              "    <tr>\n",
              "      <th>35</th>\n",
              "      <td>Queso Provolone Melincué Gigante Horma 1 Kg</td>\n",
              "      <td>Queso Provolone Melincué Gigante Horma 1 Kg</td>\n",
              "      <td>Remotti</td>\n",
              "      <td>Melincué</td>\n",
              "      <td>queso provolone</td>\n",
              "      <td>Quesos</td>\n",
              "    </tr>\n",
              "    <tr>\n",
              "      <th>36</th>\n",
              "      <td>Vino Blanco Michel Torino Torrontés Del Cafaya...</td>\n",
              "      <td>Vino Blanco Michel Torino Torrontés Del Cafaya...</td>\n",
              "      <td>NaN</td>\n",
              "      <td>Michel Torino</td>\n",
              "      <td>vino blanco</td>\n",
              "      <td>Vino</td>\n",
              "    </tr>\n",
              "    <tr>\n",
              "      <th>37</th>\n",
              "      <td>Vino Rutini Chardonnay</td>\n",
              "      <td>Vino Rutini Chardonnay</td>\n",
              "      <td>NaN</td>\n",
              "      <td>Rutini</td>\n",
              "      <td>vino rutini</td>\n",
              "      <td>Vino</td>\n",
              "    </tr>\n",
              "    <tr>\n",
              "      <th>38</th>\n",
              "      <td>Salame Piamontesa Picado Grueso X 150 Grs</td>\n",
              "      <td>Salame Piamontesa Picado Grueso X 150 Grs</td>\n",
              "      <td>NaN</td>\n",
              "      <td>La Piamontesa</td>\n",
              "      <td>salame piamontesa</td>\n",
              "      <td>Fiambres</td>\n",
              "    </tr>\n",
              "    <tr>\n",
              "      <th>39</th>\n",
              "      <td>Cubanitos Caprice Classic X 250G</td>\n",
              "      <td>Cubanitos Caprice Classic X 250G</td>\n",
              "      <td>NaN</td>\n",
              "      <td>Caprice</td>\n",
              "      <td>cubanitos caprice</td>\n",
              "      <td>Golosinas y Chocolates</td>\n",
              "    </tr>\n",
              "  </tbody>\n",
              "</table>\n",
              "</div>"
            ],
            "text/plain": [
              "                                                 name  \\\n",
              "0                           Queso Sancor Gouda 280 Gr   \n",
              "1                           Jugo De Limón Delemon 1 L   \n",
              "2                            Turrón Georgalos De Yema   \n",
              "3                            Ketchup Danica X220Gr.Dp   \n",
              "4    Queso Reggianito La Paulina Trozado Paquete 1 Kg   \n",
              "5                         Caramelos Pico Dulce 150 Gr   \n",
              "6                       Chimichurri Hellmann'S 355 Gr   \n",
              "7               Vino Fino Ampakama Cabernet Sauvignon   \n",
              "8         Leche Entera Vit A C D B9 La Serenisima 1lt   \n",
              "9      Vino Blanco Frizze Evolution Ultra Blue 750 Cc   \n",
              "10             Vino Blanco Santa Ana Selección 700 Cc   \n",
              "11            Yogur Bebible Vainilla Yogurisimo 185gr   \n",
              "12                Chupetin Crazy Pop Frutilla X 12 Gr   \n",
              "13             Salchichas Granja Iris De Viena 375 Gr   \n",
              "14             Agua Saborizada Pomelo Aquarius 1,5 Lt   \n",
              "15                                    Pan Flautita 1U   \n",
              "16             Queso Mozzarella Verónica Trozado 1 Kg   \n",
              "17                Yogur Colchon Duraz C/Manz Ser 80gr   \n",
              "18                  Aceto Balsámico Dos Anclas 250 Ml   \n",
              "19                        Vino Navarro Correas Malbec   \n",
              "20  Queso Untable Finlandia Light Balance La Seren...   \n",
              "21               Vino Resero Tinto Tetra Brick X 1 Lt   \n",
              "22  Agua Saborizada Villa Del Sur Levite Naranja 5...   \n",
              "23                     Chicle Top Line Xplosive 14 Gr   \n",
              "24                           Champaña Ruca Malen Brut   \n",
              "25               Vino Tinto Santa Julia Malbec 750 mL   \n",
              "26  Vino San Huberto Cabernet Sauvignon Crianza Bo...   \n",
              "27                               ChocolateAfter Eight   \n",
              "28        Yogur Entero Yogurisimo - Frutas Y Cereales   \n",
              "29                       Jugo Cepita de Durazno 1.5 L   \n",
              "30  Vino Tinto Benjamín Naturaleza Malbec Bonarda ...   \n",
              "31                  Aderezo Ketchup Dos Anclas 420 Gr   \n",
              "32               Agua Villa Del Sur Levité Pomelo 1 L   \n",
              "33                   Goma De Mascar Beldent Check Out   \n",
              "34                        Queso Azul Tremblay X100Gr.   \n",
              "35        Queso Provolone Melincué Gigante Horma 1 Kg   \n",
              "36  Vino Blanco Michel Torino Torrontés Del Cafaya...   \n",
              "37                             Vino Rutini Chardonnay   \n",
              "38          Salame Piamontesa Picado Grueso X 150 Grs   \n",
              "39                   Cubanitos Caprice Classic X 250G   \n",
              "\n",
              "                                          description  \\\n",
              "0                           Queso Sancor Gouda 280 Gr   \n",
              "1                           Jugo De Limón Delemon 1 L   \n",
              "2                            Turrón Georgalos De Yema   \n",
              "3                            Ketchup Danica X220Gr.Dp   \n",
              "4    Queso Reggianito La Paulina Trozado Paquete 1 Kg   \n",
              "5                         Caramelos Pico Dulce 150 Gr   \n",
              "6                       Chimichurri Hellmann'S 355 Gr   \n",
              "7   Vino Tinto Fino Ampakama Intenso Cabernet Sauv...   \n",
              "8       LECHE ENTERA LA SERENISIMA ULT.CA.NAT. ACDyB9   \n",
              "9      Vino Blanco Frizze Evolution Ultra Blue 750 Cc   \n",
              "10             Vino Blanco Santa Ana Selección 700 Cc   \n",
              "11             YOGURISIMO GO BOTELLA X185GR. VAINILLA   \n",
              "12                Chupetin Crazy Pop Frutilla X 12 Gr   \n",
              "13             Salchichas Granja Iris De Viena 375 Gr   \n",
              "14            Aquarius Cepita Sabor Pomelo x 1.5 lts.   \n",
              "15                                    Pan Flautita 1U   \n",
              "16             Queso Mozzarella Verónica Trozado 1 Kg   \n",
              "17                 YOGUR SER X180GR.C/MANZANA-DURAZNO   \n",
              "18                  Aceto Balsámico Dos Anclas 250 Ml   \n",
              "19                        Vino Navarro Correas Malbec   \n",
              "20  Queso Untable Finlandia Light Balance La Seren...   \n",
              "21               Vino Resero Tinto Tetra Brick X 1 Lt   \n",
              "22  Agua Saborizada Villa Del Sur Levite Naranja 5...   \n",
              "23                     Chicle Top Line Xplosive 14 Gr   \n",
              "24                           Champaña Ruca Malen Brut   \n",
              "25               Vino Tinto Santa Julia Malbec 750 mL   \n",
              "26  Vino San Huberto Cabernet Sauvignon Crianza Bo...   \n",
              "27               ChocolateAfter Eight Nestle x 200 GR   \n",
              "28        Yogur Entero Yogurisimo - Frutas Y Cereales   \n",
              "29                       Jugo Cepita de Durazno 1.5 L   \n",
              "30  Vino Tinto Benjamín Naturaleza Malbec Bonarda ...   \n",
              "31                  Aderezo Ketchup Dos Anclas 420 Gr   \n",
              "32               Agua Villa Del Sur Levité Pomelo 1 L   \n",
              "33          Chicles Beldent Infinit Live Mint 26,6 Gr   \n",
              "34                        Queso Azul Tremblay X100Gr.   \n",
              "35        Queso Provolone Melincué Gigante Horma 1 Kg   \n",
              "36  Vino Blanco Michel Torino Torrontés Del Cafaya...   \n",
              "37                             Vino Rutini Chardonnay   \n",
              "38          Salame Piamontesa Picado Grueso X 150 Grs   \n",
              "39                   Cubanitos Caprice Classic X 250G   \n",
              "\n",
              "                      maker        trademark             Producto2  \\\n",
              "0                       NaN           Sancor          queso sancor   \n",
              "1                       NaN          Delemon            jugo limón   \n",
              "2                       NaN        Georgalos      turrón georgalos   \n",
              "3                       NaN       La Gallega        ketchup danica   \n",
              "4                       NaN       La Paulina      queso reggianito   \n",
              "5                       NaN        Lheritier        caramelos pico   \n",
              "6                       NaN       Hellmann´S  chimichurri hellmann   \n",
              "7                       NaN         Ampakama             vino fino   \n",
              "8                   gallega    La Serenisima          leche entera   \n",
              "9                    Frizze           Frizze           vino blanco   \n",
              "10                      NaN        Santa Ana           vino blanco   \n",
              "11                  gallega       Yogurisimo         yogur bebible   \n",
              "12                      NaN            Crazy        chupetin crazy   \n",
              "13                      NaN      Granja Iris     salchichas granja   \n",
              "14    The Coca-Cola Company         Aquarius       agua saborizada   \n",
              "15                      NaN              NaN          pan flautita   \n",
              "16                 Verónica         Verónica      queso mozzarella   \n",
              "17                  gallega              Ser         yogur colchon   \n",
              "18                      NaN       Dos Anclas       aceto balsámico   \n",
              "19                      NaN  Navarro Correas          vino navarro   \n",
              "20                      NaN        Finlandia         queso untable   \n",
              "21                      NaN           Resero           vino resero   \n",
              "22                   Danone    Villa Del Sur       agua saborizada   \n",
              "23                 Top Line         Top Line            chicle top   \n",
              "24                      NaN       Ruca Malen         champaña ruca   \n",
              "25       Bodega Santa Julia      Santa Julia            vino tinto   \n",
              "26                      NaN      San Huberto              vino san   \n",
              "27                      NaN           Nestle  chocolateafter eight   \n",
              "28                      NaN       Yogurisimo          yogur entero   \n",
              "29                Del Valle           Cepita           jugo cepita   \n",
              "30  Molinos Río de la Plata         Benjamín            vino tinto   \n",
              "31                      NaN       Dos Anclas       aderezo ketchup   \n",
              "32                   Danone    Villa Del Sur            agua villa   \n",
              "33                      NaN         Beldent            goma mascar   \n",
              "34                      NaN       La Gallega            queso azul   \n",
              "35                  Remotti        Melincué        queso provolone   \n",
              "36                      NaN    Michel Torino           vino blanco   \n",
              "37                      NaN           Rutini           vino rutini   \n",
              "38                      NaN    La Piamontesa     salame piamontesa   \n",
              "39                      NaN          Caprice     cubanitos caprice   \n",
              "\n",
              "              Subcategoría  \n",
              "0                   Quesos  \n",
              "1                    Jugos  \n",
              "2   Golosinas y Chocolates  \n",
              "3                 Aderezos  \n",
              "4                   Quesos  \n",
              "5   Golosinas y Chocolates  \n",
              "6                 Aderezos  \n",
              "7                     Vino  \n",
              "8                   Leches  \n",
              "9                     Vino  \n",
              "10                    Vino  \n",
              "11                 Yogures  \n",
              "12  Golosinas y Chocolates  \n",
              "13              Salchichas  \n",
              "14                   Aguas  \n",
              "15             Panificados  \n",
              "16                  Quesos  \n",
              "17                 Yogures  \n",
              "18      Aceites y Vinagres  \n",
              "19                    Vino  \n",
              "20                  Quesos  \n",
              "21                    Vino  \n",
              "22                   Aguas  \n",
              "23  Golosinas y Chocolates  \n",
              "24              Champagnes  \n",
              "25                    Vino  \n",
              "26                    Vino  \n",
              "27  Golosinas y Chocolates  \n",
              "28                 Yogures  \n",
              "29                   Jugos  \n",
              "30                    Vino  \n",
              "31                Aderezos  \n",
              "32                   Aguas  \n",
              "33  Golosinas y Chocolates  \n",
              "34                  Quesos  \n",
              "35                  Quesos  \n",
              "36                    Vino  \n",
              "37                    Vino  \n",
              "38                Fiambres  \n",
              "39  Golosinas y Chocolates  "
            ]
          },
          "metadata": {
            "tags": []
          },
          "execution_count": 421
        }
      ]
    },
    {
      "cell_type": "markdown",
      "metadata": {
        "id": "oko5SURnkyvq"
      },
      "source": [
        "El algoritmo LinearSVC funció bien, pero vamos a verificar y comparar vs otros 3."
      ]
    },
    {
      "cell_type": "code",
      "metadata": {
        "colab": {
          "base_uri": "https://localhost:8080/",
          "height": 280
        },
        "id": "D8O1TRD7Rss_",
        "outputId": "92a3406f-c951-455f-ad0b-c511bd2a7d36"
      },
      "source": [
        "from sklearn.linear_model import LogisticRegression\n",
        "from sklearn.ensemble import RandomForestClassifier\n",
        "from sklearn.svm import LinearSVC\n",
        "from sklearn.model_selection import cross_val_score\n",
        "models = [\n",
        "    RandomForestClassifier(n_estimators=200, max_depth=3, random_state=0),\n",
        "    LinearSVC(),\n",
        "    MultinomialNB(),\n",
        "    LogisticRegression(random_state=0),\n",
        "]\n",
        "CV = 5\n",
        "cv_df = pd.DataFrame(index=range(CV * len(models)))\n",
        "entries = []\n",
        "for model in models:\n",
        "  model_name = model.__class__.__name__\n",
        "  accuracies = cross_val_score(model, features, labels, scoring='accuracy', cv=CV)\n",
        "  for fold_idx, accuracy in enumerate(accuracies):\n",
        "    entries.append((model_name, fold_idx, accuracy))\n",
        "cv_df = pd.DataFrame(entries, columns=['model_name', 'fold_idx', 'accuracy'])\n",
        "import seaborn as sns\n",
        "sns.boxplot(x='model_name', y='accuracy', data=cv_df)\n",
        "sns.stripplot(x='model_name', y='accuracy', data=cv_df, \n",
        "              size=8, jitter=True, edgecolor=\"gray\", linewidth=2)\n",
        "plt.show()"
      ],
      "execution_count": 422,
      "outputs": [
        {
          "output_type": "display_data",
          "data": {
            "image/png": "[encoded data removed]",
            "text/plain": [
              "<Figure size 432x288 with 1 Axes>"
            ]
          },
          "metadata": {
            "tags": [],
            "needs_background": "light"
          }
        }
      ]
    },
    {
      "cell_type": "markdown",
      "metadata": {
        "id": "ajLRnQO_lLL5"
      },
      "source": [
        "Accuracy de los cuatro modelos analizados."
      ]
    },
    {
      "cell_type": "code",
      "metadata": {
        "colab": {
          "base_uri": "https://localhost:8080/"
        },
        "id": "lMWjv3fjSKJt",
        "outputId": "b1281266-e78b-48c1-cf27-cc99d29eea80"
      },
      "source": [
        "cv_df.groupby('model_name').accuracy.mean()"
      ],
      "execution_count": 423,
      "outputs": [
        {
          "output_type": "execute_result",
          "data": {
            "text/plain": [
              "model_name\n",
              "LinearSVC                 0.954173\n",
              "LogisticRegression        0.936601\n",
              "MultinomialNB             0.922477\n",
              "RandomForestClassifier    0.713622\n",
              "Name: accuracy, dtype: float64"
            ]
          },
          "metadata": {
            "tags": []
          },
          "execution_count": 423
        }
      ]
    },
    {
      "cell_type": "markdown",
      "metadata": {
        "id": "wG8obnX1lSoU"
      },
      "source": [
        "Ahora vamos a anlizar las sucategorías que no fueron correctamente predecidas en nuestro entrenamiento para realizar una mejora continua de nuestra bag of word."
      ]
    },
    {
      "cell_type": "code",
      "metadata": {
        "colab": {
          "base_uri": "https://localhost:8080/",
          "height": 711
        },
        "id": "eCB56D-pSN4X",
        "outputId": "42a729b7-630f-43f3-bfcb-f779eca4e74e"
      },
      "source": [
        "model = LinearSVC()\n",
        "X_train, X_test, y_train, y_test, indices_train, indices_test = train_test_split(features, labels, data_predict.index, test_size=0.33, random_state=0)\n",
        "model.fit(X_train, y_train)\n",
        "y_pred = model.predict(X_test)\n",
        "from sklearn.metrics import confusion_matrix\n",
        "conf_mat = confusion_matrix(y_test, y_pred)\n",
        "fig, ax = plt.subplots(figsize=(10,10))\n",
        "sns.heatmap(conf_mat, annot=True, fmt='d',\n",
        "            xticklabels=category_id_df.Subcategoria.values, yticklabels=category_id_df.Subcategoria.values)\n",
        "plt.ylabel('Actual')\n",
        "plt.xlabel('Predicted')\n",
        "plt.show()"
      ],
      "execution_count": 426,
      "outputs": [
        {
          "output_type": "display_data",
          "data": {
            "image/png": "[encoded data removed]",
            "text/plain": [
              "<Figure size 720x720 with 2 Axes>"
            ]
          },
          "metadata": {
            "tags": [],
            "needs_background": "light"
          }
        }
      ]
    },
    {
      "cell_type": "markdown",
      "metadata": {
        "id": "lB5_Ut3Gjfyq"
      },
      "source": [
        "Verificamos los productos que fueron mal clasificados en nuestro entrenamiento en >= 3 veces, luego con estos datos se procede a mejorar el bag of words"
      ]
    },
    {
      "cell_type": "code",
      "metadata": {
        "colab": {
          "base_uri": "https://localhost:8080/",
          "height": 633
        },
        "id": "cDb8psEViO1j",
        "outputId": "c16097dd-45f8-4113-8232-f490489c5b82"
      },
      "source": [
        "from IPython.display import display\n",
        "for predicted in category_id_df.category_id:\n",
        "  for actual in category_id_df.category_id:\n",
        "    if predicted != actual and conf_mat[actual, predicted] >= 2:\n",
        "      print(\"'{}' predicted as '{}' : {} examples.\".format(id_to_category[actual], id_to_category[predicted], conf_mat[actual, predicted]))\n",
        "      display(data_predict.loc[indices_test[(y_test == actual) & (y_pred == predicted)]][['Producto2']])\n",
        "      print('')"
      ],
      "execution_count": 427,
      "outputs": [
        {
          "output_type": "stream",
          "text": [
            "'Jugos' predicted as 'Golosinas y Chocolates' : 2 examples.\n"
          ],
          "name": "stdout"
        },
        {
          "output_type": "display_data",
          "data": {
            "text/html": [
              "<div>\n",
              "<style scoped>\n",
              "    .dataframe tbody tr th:only-of-type {\n",
              "        vertical-align: middle;\n",
              "    }\n",
              "\n",
              "    .dataframe tbody tr th {\n",
              "        vertical-align: top;\n",
              "    }\n",
              "\n",
              "    .dataframe thead th {\n",
              "        text-align: right;\n",
              "    }\n",
              "</style>\n",
              "<table border=\"1\" class=\"dataframe\">\n",
              "  <thead>\n",
              "    <tr style=\"text-align: right;\">\n",
              "      <th></th>\n",
              "      <th>Producto2</th>\n",
              "    </tr>\n",
              "  </thead>\n",
              "  <tbody>\n",
              "    <tr>\n",
              "      <th>842</th>\n",
              "      <td>bebida lactea</td>\n",
              "    </tr>\n",
              "    <tr>\n",
              "      <th>841</th>\n",
              "      <td>bebida isotonica</td>\n",
              "    </tr>\n",
              "  </tbody>\n",
              "</table>\n",
              "</div>"
            ],
            "text/plain": [
              "            Producto2\n",
              "842     bebida lactea\n",
              "841  bebida isotonica"
            ]
          },
          "metadata": {
            "tags": []
          }
        },
        {
          "output_type": "stream",
          "text": [
            "\n",
            "'Leches' predicted as 'Golosinas y Chocolates' : 2 examples.\n"
          ],
          "name": "stdout"
        },
        {
          "output_type": "display_data",
          "data": {
            "text/html": [
              "<div>\n",
              "<style scoped>\n",
              "    .dataframe tbody tr th:only-of-type {\n",
              "        vertical-align: middle;\n",
              "    }\n",
              "\n",
              "    .dataframe tbody tr th {\n",
              "        vertical-align: top;\n",
              "    }\n",
              "\n",
              "    .dataframe thead th {\n",
              "        text-align: right;\n",
              "    }\n",
              "</style>\n",
              "<table border=\"1\" class=\"dataframe\">\n",
              "  <thead>\n",
              "    <tr style=\"text-align: right;\">\n",
              "      <th></th>\n",
              "      <th>Producto2</th>\n",
              "    </tr>\n",
              "  </thead>\n",
              "  <tbody>\n",
              "    <tr>\n",
              "      <th>784</th>\n",
              "      <td>seremix licuado</td>\n",
              "    </tr>\n",
              "    <tr>\n",
              "      <th>783</th>\n",
              "      <td>seremix licuado</td>\n",
              "    </tr>\n",
              "  </tbody>\n",
              "</table>\n",
              "</div>"
            ],
            "text/plain": [
              "           Producto2\n",
              "784  seremix licuado\n",
              "783  seremix licuado"
            ]
          },
          "metadata": {
            "tags": []
          }
        },
        {
          "output_type": "stream",
          "text": [
            "\n",
            "'Salchichas' predicted as 'Golosinas y Chocolates' : 2 examples.\n"
          ],
          "name": "stdout"
        },
        {
          "output_type": "display_data",
          "data": {
            "text/html": [
              "<div>\n",
              "<style scoped>\n",
              "    .dataframe tbody tr th:only-of-type {\n",
              "        vertical-align: middle;\n",
              "    }\n",
              "\n",
              "    .dataframe tbody tr th {\n",
              "        vertical-align: top;\n",
              "    }\n",
              "\n",
              "    .dataframe thead th {\n",
              "        text-align: right;\n",
              "    }\n",
              "</style>\n",
              "<table border=\"1\" class=\"dataframe\">\n",
              "  <thead>\n",
              "    <tr style=\"text-align: right;\">\n",
              "      <th></th>\n",
              "      <th>Producto2</th>\n",
              "    </tr>\n",
              "  </thead>\n",
              "  <tbody>\n",
              "    <tr>\n",
              "      <th>843</th>\n",
              "      <td>salchicha piel</td>\n",
              "    </tr>\n",
              "    <tr>\n",
              "      <th>844</th>\n",
              "      <td>salchicha americana</td>\n",
              "    </tr>\n",
              "  </tbody>\n",
              "</table>\n",
              "</div>"
            ],
            "text/plain": [
              "               Producto2\n",
              "843       salchicha piel\n",
              "844  salchicha americana"
            ]
          },
          "metadata": {
            "tags": []
          }
        },
        {
          "output_type": "stream",
          "text": [
            "\n",
            "'Champagnes' predicted as 'Golosinas y Chocolates' : 2 examples.\n"
          ],
          "name": "stdout"
        },
        {
          "output_type": "display_data",
          "data": {
            "text/html": [
              "<div>\n",
              "<style scoped>\n",
              "    .dataframe tbody tr th:only-of-type {\n",
              "        vertical-align: middle;\n",
              "    }\n",
              "\n",
              "    .dataframe tbody tr th {\n",
              "        vertical-align: top;\n",
              "    }\n",
              "\n",
              "    .dataframe thead th {\n",
              "        text-align: right;\n",
              "    }\n",
              "</style>\n",
              "<table border=\"1\" class=\"dataframe\">\n",
              "  <thead>\n",
              "    <tr style=\"text-align: right;\">\n",
              "      <th></th>\n",
              "      <th>Producto2</th>\n",
              "    </tr>\n",
              "  </thead>\n",
              "  <tbody>\n",
              "    <tr>\n",
              "      <th>851</th>\n",
              "      <td>champagne dada</td>\n",
              "    </tr>\n",
              "    <tr>\n",
              "      <th>786</th>\n",
              "      <td>champa x</td>\n",
              "    </tr>\n",
              "  </tbody>\n",
              "</table>\n",
              "</div>"
            ],
            "text/plain": [
              "          Producto2\n",
              "851  champagne dada\n",
              "786        champa x"
            ]
          },
          "metadata": {
            "tags": []
          }
        },
        {
          "output_type": "stream",
          "text": [
            "\n",
            "'Fiambres' predicted as 'Golosinas y Chocolates' : 2 examples.\n"
          ],
          "name": "stdout"
        },
        {
          "output_type": "display_data",
          "data": {
            "text/html": [
              "<div>\n",
              "<style scoped>\n",
              "    .dataframe tbody tr th:only-of-type {\n",
              "        vertical-align: middle;\n",
              "    }\n",
              "\n",
              "    .dataframe tbody tr th {\n",
              "        vertical-align: top;\n",
              "    }\n",
              "\n",
              "    .dataframe thead th {\n",
              "        text-align: right;\n",
              "    }\n",
              "</style>\n",
              "<table border=\"1\" class=\"dataframe\">\n",
              "  <thead>\n",
              "    <tr style=\"text-align: right;\">\n",
              "      <th></th>\n",
              "      <th>Producto2</th>\n",
              "    </tr>\n",
              "  </thead>\n",
              "  <tbody>\n",
              "    <tr>\n",
              "      <th>548</th>\n",
              "      <td>panceta salada</td>\n",
              "    </tr>\n",
              "    <tr>\n",
              "      <th>848</th>\n",
              "      <td>bondiola feteada</td>\n",
              "    </tr>\n",
              "  </tbody>\n",
              "</table>\n",
              "</div>"
            ],
            "text/plain": [
              "            Producto2\n",
              "548    panceta salada\n",
              "848  bondiola feteada"
            ]
          },
          "metadata": {
            "tags": []
          }
        },
        {
          "output_type": "stream",
          "text": [
            "\n"
          ],
          "name": "stdout"
        }
      ]
    },
    {
      "cell_type": "markdown",
      "metadata": {
        "id": "K8zdXqQstKmt"
      },
      "source": [
        "En el caso de querer clasificar el archivo train_challenge.csv debemos renombrar la variable data1 a data y ejecutar todo el proceso."
      ]
    }
  ]
}